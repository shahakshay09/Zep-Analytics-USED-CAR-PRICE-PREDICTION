{
 "cells": [
  {
   "cell_type": "markdown",
   "id": "117f3129",
   "metadata": {},
   "source": [
    "# Webscraping Project on Cars24"
   ]
  },
  {
   "cell_type": "code",
   "execution_count": 109,
   "id": "732010db",
   "metadata": {},
   "outputs": [],
   "source": [
    "import bs4\n",
    "from bs4 import BeautifulSoup\n",
    "import re\n",
    "import requests\n",
    "import time\n",
    "import pandas as pd\n",
    "from selenium import webdriver\n",
    "import warnings\n",
    "warnings.filterwarnings('ignore')"
   ]
  },
  {
   "cell_type": "markdown",
   "id": "73272261",
   "metadata": {},
   "source": [
    "### For New Delhi"
   ]
  },
  {
   "cell_type": "code",
   "execution_count": 110,
   "id": "8f339b46",
   "metadata": {},
   "outputs": [
    {
     "data": {
      "text/plain": [
       "1335800"
      ]
     },
     "execution_count": 110,
     "metadata": {},
     "output_type": "execute_result"
    }
   ],
   "source": [
    "driver_D = webdriver.Chrome(r\"C:\\Users\\shaha\\Downloads\\chromedriver_win32 (1)/chromedriver.exe\")\n",
    "driver_D.get('https://www.cars24.com/buy-used-car?sort=P&storeCityId=2&pinId=110001')\n",
    "ScrollNumber_D = 100\n",
    "for i in range(1,ScrollNumber_D):\n",
    "    driver_D.execute_script(\"window.scrollTo(1,50000000)\")\n",
    "    time.sleep(5)\n",
    "file_D = open('cars24_Delhi.html', 'w', encoding='utf-8')\n",
    "file_D.write(driver_D.page_source)"
   ]
  },
  {
   "cell_type": "code",
   "execution_count": 111,
   "id": "022f0ddf",
   "metadata": {},
   "outputs": [],
   "source": [
    "data_D = open('cars24_Delhi.html','r')\n",
    "soup_D = BeautifulSoup(data_D, 'html.parser')"
   ]
  },
  {
   "cell_type": "markdown",
   "id": "953c7e42",
   "metadata": {},
   "source": [
    "### For city Hyderabad"
   ]
  },
  {
   "cell_type": "code",
   "execution_count": 112,
   "id": "e609c9bd",
   "metadata": {},
   "outputs": [
    {
     "data": {
      "text/plain": [
       "814160"
      ]
     },
     "execution_count": 112,
     "metadata": {},
     "output_type": "execute_result"
    }
   ],
   "source": [
    "driver_H = webdriver.Chrome(r\"C:\\Users\\shaha\\Downloads\\chromedriver_win32 (1)/chromedriver.exe\")\n",
    "driver_H.get('https://www.cars24.com/buy-used-cars-hyderabad/?itm_source=Cars24Website&itm_medium=sticky_header')\n",
    "ScrollNumber_H = 100\n",
    "for i in range(1,ScrollNumber_H):\n",
    "    driver_H.execute_script(\"window.scrollTo(1,50000000)\")\n",
    "    time.sleep(5)\n",
    "file_H = open('cars24_Hyderabad.html', 'w', encoding='utf-8')\n",
    "file_H.write(driver_H.page_source)"
   ]
  },
  {
   "cell_type": "code",
   "execution_count": 113,
   "id": "8f2f646b",
   "metadata": {},
   "outputs": [],
   "source": [
    "data_H = open('cars24_Hyderabad.html','r')\n",
    "soup_H = BeautifulSoup(data_H, 'html.parser')"
   ]
  },
  {
   "cell_type": "markdown",
   "id": "a049f973",
   "metadata": {},
   "source": [
    "### For Mumbai"
   ]
  },
  {
   "cell_type": "code",
   "execution_count": 114,
   "id": "fef129a2",
   "metadata": {},
   "outputs": [
    {
     "data": {
      "text/plain": [
       "1658760"
      ]
     },
     "execution_count": 114,
     "metadata": {},
     "output_type": "execute_result"
    }
   ],
   "source": [
    "driver_M = webdriver.Chrome(r\"C:\\Users\\shaha\\Downloads\\chromedriver_win32 (1)/chromedriver.exe\")\n",
    "driver_M.get('https://www.cars24.com/buy-used-car?sort=P&storeCityId=2378&pinId=400001')\n",
    "ScrollNumber_M = 100\n",
    "for i in range(1,ScrollNumber_M):\n",
    "    driver_M.execute_script(\"window.scrollTo(1,50000000)\")\n",
    "    time.sleep(5)\n",
    "file_M = open('cars24_Mumbai.html', 'w', encoding='utf-8')\n",
    "file_M.write(driver_M.page_source)"
   ]
  },
  {
   "cell_type": "code",
   "execution_count": 115,
   "id": "f44e20bc",
   "metadata": {},
   "outputs": [],
   "source": [
    "data_M = open('cars24_Mumbai.html','r')\n",
    "soup_M = BeautifulSoup(data_M, 'html.parser')"
   ]
  },
  {
   "cell_type": "markdown",
   "id": "87dd5b52",
   "metadata": {},
   "source": [
    "### For Bangalore"
   ]
  },
  {
   "cell_type": "code",
   "execution_count": 116,
   "id": "541d4d4c",
   "metadata": {},
   "outputs": [
    {
     "data": {
      "text/plain": [
       "1114052"
      ]
     },
     "execution_count": 116,
     "metadata": {},
     "output_type": "execute_result"
    }
   ],
   "source": [
    "\n",
    "driver_B = webdriver.Chrome(r\"C:\\Users\\shaha\\Downloads\\chromedriver_win32 (1)/chromedriver.exe\")\n",
    "driver_B.get('https://www.cars24.com/buy-used-car?sort=P&storeCityId=4709&pinId=560001')\n",
    "ScrollNumber_B = 100\n",
    "for i in range(1,ScrollNumber_B):\n",
    "    driver_B.execute_script(\"window.scrollTo(1,50000000)\")\n",
    "    time.sleep(5)\n",
    "file_B = open('cars24_Bangalore.html', 'w', encoding='utf-8')\n",
    "file_B.write(driver_B.page_source)"
   ]
  },
  {
   "cell_type": "code",
   "execution_count": 117,
   "id": "85f3bf28",
   "metadata": {},
   "outputs": [],
   "source": [
    "data_B = open('cars24_Bangalore.html','r')\n",
    "soup_B = BeautifulSoup(data_B, 'html.parser')"
   ]
  },
  {
   "cell_type": "markdown",
   "id": "505dffcf",
   "metadata": {},
   "source": [
    "### For Chennai"
   ]
  },
  {
   "cell_type": "code",
   "execution_count": 118,
   "id": "33c3dd3c",
   "metadata": {},
   "outputs": [
    {
     "data": {
      "text/plain": [
       "1266285"
      ]
     },
     "execution_count": 118,
     "metadata": {},
     "output_type": "execute_result"
    }
   ],
   "source": [
    "\n",
    "driver_C = webdriver.Chrome(r\"C:\\Users\\shaha\\Downloads\\chromedriver_win32 (1)/chromedriver.exe\")\n",
    "driver_C.get('https://www.cars24.com/buy-used-car?sort=P&storeCityId=5732&pinId=600001')\n",
    "ScrollNumber_C = 100\n",
    "for i in range(1,ScrollNumber_C):\n",
    "    driver_C.execute_script(\"window.scrollTo(1,50000000)\")\n",
    "    time.sleep(5)\n",
    "file_C = open('cars24_Chennai.html', 'w', encoding='utf-8')\n",
    "file_C.write(driver_C.page_source)"
   ]
  },
  {
   "cell_type": "code",
   "execution_count": 119,
   "id": "d07adc02",
   "metadata": {},
   "outputs": [],
   "source": [
    "data_C = open('cars24_Chennai.html','r')\n",
    "soup_C = BeautifulSoup(data_C, 'html.parser')"
   ]
  },
  {
   "cell_type": "markdown",
   "id": "8f21693b",
   "metadata": {},
   "source": [
    "# Storing different classes"
   ]
  },
  {
   "cell_type": "code",
   "execution_count": 120,
   "id": "a5d2b339",
   "metadata": {},
   "outputs": [],
   "source": [
    "main_div = 'col-4'\n",
    "sub_div = '_1l4fi'\n",
    "subsub_div = {'name':'_1jpRU','price':'_7udZZ','emi':'_2HFRN' , 'features':'bVR0c'}"
   ]
  },
  {
   "cell_type": "code",
   "execution_count": 121,
   "id": "f8bc58dc",
   "metadata": {},
   "outputs": [],
   "source": [
    "#creating empty list\n",
    "name_H, name_D, name_M, name_B, name_C = [],[],[],[],[]\n",
    "price_H, price_D, price_M, price_B, price_C = [],[],[],[],[]\n",
    "emi_H, emi_D, emi_M, emi_B, emi_C = [],[],[],[],[]\n",
    "features_H, features_D, features_M, features_B, features_C = [],[],[],[],[]\n",
    "city_H, city_D, city_M, city_B, city_C = [],[],[],[],[]"
   ]
  },
  {
   "cell_type": "markdown",
   "id": "3facbfdf",
   "metadata": {},
   "source": [
    "# Making Empty list to store data"
   ]
  },
  {
   "cell_type": "code",
   "execution_count": 122,
   "id": "34a3b1a8",
   "metadata": {},
   "outputs": [],
   "source": [
    "name = []\n",
    "price = []\n",
    "emi = []\n",
    "features = []\n",
    "city = []"
   ]
  },
  {
   "cell_type": "code",
   "execution_count": 123,
   "id": "9e2b2fad",
   "metadata": {},
   "outputs": [],
   "source": [
    "soups = [soup_H, soup_D, soup_M, soup_B, soup_C]"
   ]
  },
  {
   "cell_type": "code",
   "execution_count": 124,
   "id": "e18340de",
   "metadata": {},
   "outputs": [],
   "source": [
    "# Delhi          \n",
    "for x in soup_D.find_all('div',{'class':main_div}):\n",
    "        for i in x.find_all('div',{'class':sub_div}):\n",
    "    \n",
    "            try:\n",
    "                a = i.find('div',{'class':subsub_div['name']})\n",
    "                name_D.append(a.text)\n",
    "            except:\n",
    "                name_D.append(np.nan)\n",
    "            \n",
    "            try:\n",
    "                a = i.find('div',{'class':subsub_div['price']})\n",
    "                price_D.append(a.text)\n",
    "            except:\n",
    "                price_D.append(np.nan)\n",
    "        \n",
    "    \n",
    "            try:\n",
    "                a = i.find('div',{'class':subsub_div['emi']})\n",
    "                emi_D.append(a.text)\n",
    "            except:\n",
    "                emi_D.append(np.nan)\n",
    "        \n",
    "            try:\n",
    "                a = i.find('ul',{'class':subsub_div['features']})\n",
    "                features_D.append(\"\\n\".join([subsub_div.text for subsub_div in a]))\n",
    "            except:\n",
    "                features_D.append(np.nan)\n",
    "            try:\n",
    "                city_D.append('Delhi')\n",
    "            except:\n",
    "                city_D.append(np.nan)"
   ]
  },
  {
   "cell_type": "code",
   "execution_count": 125,
   "id": "398d0b8c",
   "metadata": {},
   "outputs": [],
   "source": [
    "# Hyderabad\n",
    "for x in soup_H.find_all('div',{'class':main_div}):\n",
    "        for i in x.find_all('div',{'class':sub_div}):\n",
    "    \n",
    "            try:\n",
    "                a = i.find('div',{'class':subsub_div['name']})\n",
    "                name_H.append(a.text)\n",
    "            except:\n",
    "                name_H.append(np.nan)\n",
    "            \n",
    "            try:\n",
    "                a = i.find('div',{'class':subsub_div['price']})\n",
    "                price_H.append(a.text)\n",
    "            except:\n",
    "                price_H.append(np.nan)\n",
    "        \n",
    "    \n",
    "            try:\n",
    "                a = i.find('div',{'class':subsub_div['emi']})\n",
    "                emi_H.append(a.text)\n",
    "            except:\n",
    "                emi_H.append(np.nan)\n",
    "        \n",
    "            try:\n",
    "                a = i.find('ul',{'class':subsub_div['features']})\n",
    "                features_H.append(\"\\n\".join([subsub_div.text for subsub_div in a]))\n",
    "            except:\n",
    "                features_H.append(np.nan)\n",
    "            try:\n",
    "                city_H.append('Hyderabad')\n",
    "            except:\n",
    "                city_H.append(np.nan)"
   ]
  },
  {
   "cell_type": "code",
   "execution_count": 126,
   "id": "00e0e10d",
   "metadata": {},
   "outputs": [],
   "source": [
    "# Mumbai         \n",
    "for x in soup_M.find_all('div',{'class':main_div}):\n",
    "        for i in x.find_all('div',{'class':sub_div}):\n",
    "    \n",
    "            try:\n",
    "                a = i.find('div',{'class':subsub_div['name']})\n",
    "                name_M.append(a.text)\n",
    "            except:\n",
    "                name_M.append(np.nan)\n",
    "            \n",
    "            try:\n",
    "                a = i.find('div',{'class':subsub_div['price']})\n",
    "                price_M.append(a.text)\n",
    "            except:\n",
    "                price_M.append(np.nan)\n",
    "        \n",
    "    \n",
    "            try:\n",
    "                a = i.find('div',{'class':subsub_div['emi']})\n",
    "                emi_M.append(a.text)\n",
    "            except:\n",
    "                emi_M.append(np.nan)\n",
    "        \n",
    "            try:\n",
    "                a = i.find('ul',{'class':subsub_div['features']})\n",
    "                features_M.append(\"\\n\".join([subsub_div.text for subsub_div in a]))\n",
    "            except:\n",
    "                features_M.append(np.nan)\n",
    "            try:\n",
    "                city_M.append('Mumbai')\n",
    "            except:\n",
    "                city_M.append(np.nan)"
   ]
  },
  {
   "cell_type": "code",
   "execution_count": 127,
   "id": "029f8a61",
   "metadata": {},
   "outputs": [],
   "source": [
    "# Bangalore         \n",
    "for x in soup_B.find_all('div',{'class':main_div}):\n",
    "        for i in x.find_all('div',{'class':sub_div}):\n",
    "    \n",
    "            try:\n",
    "                a = i.find('div',{'class':subsub_div['name']})\n",
    "                name_B.append(a.text)\n",
    "            except:\n",
    "                name_B.append(np.nan)\n",
    "            \n",
    "            try:\n",
    "                a = i.find('div',{'class':subsub_div['price']})\n",
    "                price_B.append(a.text)\n",
    "            except:\n",
    "                price_B.append(np.nan)\n",
    "        \n",
    "    \n",
    "            try:\n",
    "                a = i.find('div',{'class':subsub_div['emi']})\n",
    "                emi_B.append(a.text)\n",
    "            except:\n",
    "                emi_B.append(np.nan)\n",
    "        \n",
    "            try:\n",
    "                a = i.find('ul',{'class':subsub_div['features']})\n",
    "                features_B.append(\"\\n\".join([subsub_div.text for subsub_div in a]))\n",
    "            except:\n",
    "                features_B.append(np.nan)\n",
    "            try:\n",
    "                city_B.append('Bangalore')\n",
    "            except:\n",
    "                city_B.append(np.nan)"
   ]
  },
  {
   "cell_type": "code",
   "execution_count": 128,
   "id": "a13205dc",
   "metadata": {},
   "outputs": [],
   "source": [
    "# Chennai          \n",
    "for x in soup_C.find_all('div',{'class':main_div}):\n",
    "        for i in x.find_all('div',{'class':sub_div}):\n",
    "    \n",
    "            try:\n",
    "                a = i.find('div',{'class':subsub_div['name']})\n",
    "                name_C.append(a.text)\n",
    "            except:\n",
    "                name_C.append(np.nan)\n",
    "            \n",
    "            try:\n",
    "                a = i.find('div',{'class':subsub_div['price']})\n",
    "                price_C.append(a.text)\n",
    "            except:\n",
    "                price_C.append(np.nan)\n",
    "        \n",
    "    \n",
    "            try:\n",
    "                a = i.find('div',{'class':subsub_div['emi']})\n",
    "                emi_C.append(a.text)\n",
    "            except:\n",
    "                emi_C.append(np.nan)\n",
    "        \n",
    "            try:\n",
    "                a = i.find('ul',{'class':subsub_div['features']})\n",
    "                features_C.append(\"\\n\".join([subsub_div.text for subsub_div in a]))\n",
    "            except:\n",
    "                features_C.append(np.nan)\n",
    "            try:\n",
    "                city_C.append('Chennai')\n",
    "            except:\n",
    "                city_C.append(np.nan)"
   ]
  },
  {
   "cell_type": "code",
   "execution_count": 129,
   "id": "db564ed8",
   "metadata": {},
   "outputs": [],
   "source": [
    "name = name + name_H + name_D + name_M + name_B + name_C \n",
    "price = price + price_H + price_D + price_M + price_B + price_C\n",
    "emi = emi + emi_H + emi_D + emi_M + emi_B + emi_C\n",
    "features = features + features_H + features_D + features_M + features_B + features_C\n",
    "city = city + city_H + city_D + city_M + city_B + city_C"
   ]
  },
  {
   "cell_type": "markdown",
   "id": "5041159a",
   "metadata": {},
   "source": [
    "# Creating a Data Frame"
   ]
  },
  {
   "cell_type": "code",
   "execution_count": 131,
   "id": "658af841",
   "metadata": {},
   "outputs": [],
   "source": [
    "df = pd.DataFrame({\"Car Name\":name, 'Price':price, \n",
    "                  \"EMI\":emi, \"Features\":features,\"Location\":city})"
   ]
  },
  {
   "cell_type": "markdown",
   "id": "23b3ae31",
   "metadata": {},
   "source": [
    "## Now Extracting more data"
   ]
  },
  {
   "cell_type": "code",
   "execution_count": 133,
   "id": "87ab8f63",
   "metadata": {},
   "outputs": [],
   "source": [
    "regex = r'^\\d+\\s(\\w+)\\s'\n",
    "df['Car Brand'] = df['Car Name'].apply(lambda x: re.compile(regex).findall(x)[0])\n",
    "\n",
    "regex = r'^\\d+\\s\\w+\\s(.*?)\\s\\w+$'\n",
    "df['Model'] = df['Car Name'].apply(lambda x: re.compile(regex).findall(x))\n",
    "\n",
    "regex = r'â‚¹(.*)'\n",
    "df['Price'] = df['Price'].apply(lambda x: re.compile(regex).findall(x)[0])\n",
    "\n",
    "regex = r'^\\d+'\n",
    "df['Model Year'] = df['Car Name'].apply(lambda x: re.compile(regex).findall(x)[0])\n",
    "\n",
    "regex = r'\\w+$'\n",
    "df['Gear'] = df['Car Name'].apply(lambda x: re.compile(regex).findall(x))\n",
    "\n",
    "regex = r'^(.*)\\skm'\n",
    "df['Driven (Kms)'] = df['Features'].apply(lambda x: re.compile(regex).findall(x)[0])\n",
    "\n",
    "regex = r'\\n(\\d+)\\w+\\sOwner\\n'\n",
    "df['Ownership'] = df['Features'].apply(lambda x: re.compile(regex).findall(x)[0])\n",
    "\n",
    "regex = r'\\n(.*)$'\n",
    "df['Fuel'] = df['Features'].apply(lambda x: re.compile(regex).findall(x)[0])\n",
    "\n",
    "regex = r'â‚¹(.*)/month'\n",
    "df['EMI (monthly)'] = df['EMI'].apply(lambda x: re.compile(regex).findall(x)[0])"
   ]
  },
  {
   "cell_type": "code",
   "execution_count": 135,
   "id": "59fa79bc",
   "metadata": {},
   "outputs": [
    {
     "data": {
      "text/html": [
       "<div>\n",
       "<style scoped>\n",
       "    .dataframe tbody tr th:only-of-type {\n",
       "        vertical-align: middle;\n",
       "    }\n",
       "\n",
       "    .dataframe tbody tr th {\n",
       "        vertical-align: top;\n",
       "    }\n",
       "\n",
       "    .dataframe thead th {\n",
       "        text-align: right;\n",
       "    }\n",
       "</style>\n",
       "<table border=\"1\" class=\"dataframe\">\n",
       "  <thead>\n",
       "    <tr style=\"text-align: right;\">\n",
       "      <th></th>\n",
       "      <th>Car Name</th>\n",
       "      <th>Price</th>\n",
       "      <th>EMI</th>\n",
       "      <th>Features</th>\n",
       "      <th>Location</th>\n",
       "      <th>Car Brand</th>\n",
       "      <th>Model</th>\n",
       "      <th>Model Year</th>\n",
       "      <th>Gear</th>\n",
       "      <th>Driven (Kms)</th>\n",
       "      <th>Ownership</th>\n",
       "      <th>Fuel</th>\n",
       "      <th>EMI (monthly)</th>\n",
       "    </tr>\n",
       "  </thead>\n",
       "  <tbody>\n",
       "    <tr>\n",
       "      <th>0</th>\n",
       "      <td>2016 Maruti BalenoZETA 1.2 K12 Manual</td>\n",
       "      <td>6,21,899</td>\n",
       "      <td>â‚¹13,834/month</td>\n",
       "      <td>1,03,354 km\\n1st Owner\\nPetrol</td>\n",
       "      <td>Hyderabad</td>\n",
       "      <td>Maruti</td>\n",
       "      <td>[BalenoZETA 1.2 K12]</td>\n",
       "      <td>2016</td>\n",
       "      <td>[Manual]</td>\n",
       "      <td>1,03,354</td>\n",
       "      <td>1</td>\n",
       "      <td>Petrol</td>\n",
       "      <td>13,834</td>\n",
       "    </tr>\n",
       "    <tr>\n",
       "      <th>1</th>\n",
       "      <td>2015 Honda Jazz1.2 V AT Automatic</td>\n",
       "      <td>5,24,199</td>\n",
       "      <td>â‚¹11,661/month</td>\n",
       "      <td>65,571 km\\n2nd Owner\\nPetrol</td>\n",
       "      <td>Hyderabad</td>\n",
       "      <td>Honda</td>\n",
       "      <td>[Jazz1.2 V AT]</td>\n",
       "      <td>2015</td>\n",
       "      <td>[Automatic]</td>\n",
       "      <td>65,571</td>\n",
       "      <td>2</td>\n",
       "      <td>Petrol</td>\n",
       "      <td>11,661</td>\n",
       "    </tr>\n",
       "    <tr>\n",
       "      <th>2</th>\n",
       "      <td>2012 Maruti SwiftZDI Manual</td>\n",
       "      <td>4,76,699</td>\n",
       "      <td>â‚¹10,604/month</td>\n",
       "      <td>78,819 km\\n2nd Owner\\nDiesel</td>\n",
       "      <td>Hyderabad</td>\n",
       "      <td>Maruti</td>\n",
       "      <td>[SwiftZDI]</td>\n",
       "      <td>2012</td>\n",
       "      <td>[Manual]</td>\n",
       "      <td>78,819</td>\n",
       "      <td>2</td>\n",
       "      <td>Diesel</td>\n",
       "      <td>10,604</td>\n",
       "    </tr>\n",
       "    <tr>\n",
       "      <th>3</th>\n",
       "      <td>2016 Maruti Alto 800LXI Manual</td>\n",
       "      <td>2,95,499</td>\n",
       "      <td>â‚¹6,573/month</td>\n",
       "      <td>20,215 km\\n2nd Owner\\nPetrol</td>\n",
       "      <td>Hyderabad</td>\n",
       "      <td>Maruti</td>\n",
       "      <td>[Alto 800LXI]</td>\n",
       "      <td>2016</td>\n",
       "      <td>[Manual]</td>\n",
       "      <td>20,215</td>\n",
       "      <td>2</td>\n",
       "      <td>Petrol</td>\n",
       "      <td>6,573</td>\n",
       "    </tr>\n",
       "    <tr>\n",
       "      <th>4</th>\n",
       "      <td>2010 Hyundai i20SPORTZ 1.2 O Manual</td>\n",
       "      <td>3,78,299</td>\n",
       "      <td>â‚¹8,415/month</td>\n",
       "      <td>79,222 km\\n2nd Owner\\nPetrol</td>\n",
       "      <td>Hyderabad</td>\n",
       "      <td>Hyundai</td>\n",
       "      <td>[i20SPORTZ 1.2 O]</td>\n",
       "      <td>2010</td>\n",
       "      <td>[Manual]</td>\n",
       "      <td>79,222</td>\n",
       "      <td>2</td>\n",
       "      <td>Petrol</td>\n",
       "      <td>8,415</td>\n",
       "    </tr>\n",
       "  </tbody>\n",
       "</table>\n",
       "</div>"
      ],
      "text/plain": [
       "                                Car Name     Price              EMI  \\\n",
       "0  2016 Maruti BalenoZETA 1.2 K12 Manual  6,21,899  â‚¹13,834/month   \n",
       "1      2015 Honda Jazz1.2 V AT Automatic  5,24,199  â‚¹11,661/month   \n",
       "2            2012 Maruti SwiftZDI Manual  4,76,699  â‚¹10,604/month   \n",
       "3         2016 Maruti Alto 800LXI Manual  2,95,499   â‚¹6,573/month   \n",
       "4    2010 Hyundai i20SPORTZ 1.2 O Manual  3,78,299   â‚¹8,415/month   \n",
       "\n",
       "                         Features   Location Car Brand                 Model  \\\n",
       "0  1,03,354 km\\n1st Owner\\nPetrol  Hyderabad    Maruti  [BalenoZETA 1.2 K12]   \n",
       "1    65,571 km\\n2nd Owner\\nPetrol  Hyderabad     Honda        [Jazz1.2 V AT]   \n",
       "2    78,819 km\\n2nd Owner\\nDiesel  Hyderabad    Maruti            [SwiftZDI]   \n",
       "3    20,215 km\\n2nd Owner\\nPetrol  Hyderabad    Maruti         [Alto 800LXI]   \n",
       "4    79,222 km\\n2nd Owner\\nPetrol  Hyderabad   Hyundai     [i20SPORTZ 1.2 O]   \n",
       "\n",
       "  Model Year         Gear Driven (Kms) Ownership    Fuel EMI (monthly)  \n",
       "0       2016     [Manual]     1,03,354         1  Petrol        13,834  \n",
       "1       2015  [Automatic]       65,571         2  Petrol        11,661  \n",
       "2       2012     [Manual]       78,819         2  Diesel        10,604  \n",
       "3       2016     [Manual]       20,215         2  Petrol         6,573  \n",
       "4       2010     [Manual]       79,222         2  Petrol         8,415  "
      ]
     },
     "execution_count": 135,
     "metadata": {},
     "output_type": "execute_result"
    }
   ],
   "source": [
    "df.head()"
   ]
  },
  {
   "cell_type": "code",
   "execution_count": 136,
   "id": "a3c276b4",
   "metadata": {},
   "outputs": [],
   "source": [
    "df.to_csv('cars24_data.csv')"
   ]
  },
  {
   "cell_type": "code",
   "execution_count": null,
   "id": "ba9e885a",
   "metadata": {},
   "outputs": [],
   "source": []
  }
 ],
 "metadata": {
  "kernelspec": {
   "display_name": "Python 3",
   "language": "python",
   "name": "python3"
  },
  "language_info": {
   "codemirror_mode": {
    "name": "ipython",
    "version": 3
   },
   "file_extension": ".py",
   "mimetype": "text/x-python",
   "name": "python",
   "nbconvert_exporter": "python",
   "pygments_lexer": "ipython3",
   "version": "3.8.8"
  }
 },
 "nbformat": 4,
 "nbformat_minor": 5
}
