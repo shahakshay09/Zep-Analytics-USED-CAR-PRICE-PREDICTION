{
 "cells": [
  {
   "cell_type": "code",
   "execution_count": 1,
   "id": "cc4eee2d",
   "metadata": {},
   "outputs": [],
   "source": [
    "import numpy as np\n",
    "import pandas as pd\n",
    "import seaborn as sns\n",
    "sns.set_style('darkgrid')\n",
    "import matplotlib.pyplot as plt\n",
    "%matplotlib inline\n",
    "import warnings\n",
    "warnings.filterwarnings('ignore')"
   ]
  },
  {
   "cell_type": "code",
   "execution_count": 2,
   "id": "a92b69a6",
   "metadata": {},
   "outputs": [],
   "source": [
    "df = pd.read_csv(\"cars24_data.csv\")"
   ]
  },
  {
   "cell_type": "code",
   "execution_count": 3,
   "id": "79f67754",
   "metadata": {},
   "outputs": [
    {
     "data": {
      "text/html": [
       "<div>\n",
       "<style scoped>\n",
       "    .dataframe tbody tr th:only-of-type {\n",
       "        vertical-align: middle;\n",
       "    }\n",
       "\n",
       "    .dataframe tbody tr th {\n",
       "        vertical-align: top;\n",
       "    }\n",
       "\n",
       "    .dataframe thead th {\n",
       "        text-align: right;\n",
       "    }\n",
       "</style>\n",
       "<table border=\"1\" class=\"dataframe\">\n",
       "  <thead>\n",
       "    <tr style=\"text-align: right;\">\n",
       "      <th></th>\n",
       "      <th>Unnamed: 0</th>\n",
       "      <th>Car Name</th>\n",
       "      <th>Price</th>\n",
       "      <th>EMI</th>\n",
       "      <th>Features</th>\n",
       "      <th>Location</th>\n",
       "      <th>Car Brand</th>\n",
       "      <th>Model</th>\n",
       "      <th>Model Year</th>\n",
       "      <th>Gear</th>\n",
       "      <th>Driven (Kms)</th>\n",
       "      <th>Ownership</th>\n",
       "      <th>Fuel</th>\n",
       "      <th>EMI (monthly)</th>\n",
       "    </tr>\n",
       "  </thead>\n",
       "  <tbody>\n",
       "    <tr>\n",
       "      <th>0</th>\n",
       "      <td>0</td>\n",
       "      <td>2016 Maruti BalenoZETA 1.2 K12 Manual</td>\n",
       "      <td>6,21,899</td>\n",
       "      <td>â‚¹13,834/month</td>\n",
       "      <td>1,03,354 km\\n1st Owner\\nPetrol</td>\n",
       "      <td>Hyderabad</td>\n",
       "      <td>Maruti</td>\n",
       "      <td>['BalenoZETA 1.2 K12']</td>\n",
       "      <td>2016</td>\n",
       "      <td>['Manual']</td>\n",
       "      <td>1,03,354</td>\n",
       "      <td>1</td>\n",
       "      <td>Petrol</td>\n",
       "      <td>13,834</td>\n",
       "    </tr>\n",
       "    <tr>\n",
       "      <th>1</th>\n",
       "      <td>1</td>\n",
       "      <td>2015 Honda Jazz1.2 V AT Automatic</td>\n",
       "      <td>5,24,199</td>\n",
       "      <td>â‚¹11,661/month</td>\n",
       "      <td>65,571 km\\n2nd Owner\\nPetrol</td>\n",
       "      <td>Hyderabad</td>\n",
       "      <td>Honda</td>\n",
       "      <td>['Jazz1.2 V AT']</td>\n",
       "      <td>2015</td>\n",
       "      <td>['Automatic']</td>\n",
       "      <td>65,571</td>\n",
       "      <td>2</td>\n",
       "      <td>Petrol</td>\n",
       "      <td>11,661</td>\n",
       "    </tr>\n",
       "    <tr>\n",
       "      <th>2</th>\n",
       "      <td>2</td>\n",
       "      <td>2012 Maruti SwiftZDI Manual</td>\n",
       "      <td>4,76,699</td>\n",
       "      <td>â‚¹10,604/month</td>\n",
       "      <td>78,819 km\\n2nd Owner\\nDiesel</td>\n",
       "      <td>Hyderabad</td>\n",
       "      <td>Maruti</td>\n",
       "      <td>['SwiftZDI']</td>\n",
       "      <td>2012</td>\n",
       "      <td>['Manual']</td>\n",
       "      <td>78,819</td>\n",
       "      <td>2</td>\n",
       "      <td>Diesel</td>\n",
       "      <td>10,604</td>\n",
       "    </tr>\n",
       "    <tr>\n",
       "      <th>3</th>\n",
       "      <td>3</td>\n",
       "      <td>2016 Maruti Alto 800LXI Manual</td>\n",
       "      <td>2,95,499</td>\n",
       "      <td>â‚¹6,573/month</td>\n",
       "      <td>20,215 km\\n2nd Owner\\nPetrol</td>\n",
       "      <td>Hyderabad</td>\n",
       "      <td>Maruti</td>\n",
       "      <td>['Alto 800LXI']</td>\n",
       "      <td>2016</td>\n",
       "      <td>['Manual']</td>\n",
       "      <td>20,215</td>\n",
       "      <td>2</td>\n",
       "      <td>Petrol</td>\n",
       "      <td>6,573</td>\n",
       "    </tr>\n",
       "    <tr>\n",
       "      <th>4</th>\n",
       "      <td>4</td>\n",
       "      <td>2010 Hyundai i20SPORTZ 1.2 O Manual</td>\n",
       "      <td>3,78,299</td>\n",
       "      <td>â‚¹8,415/month</td>\n",
       "      <td>79,222 km\\n2nd Owner\\nPetrol</td>\n",
       "      <td>Hyderabad</td>\n",
       "      <td>Hyundai</td>\n",
       "      <td>['i20SPORTZ 1.2 O']</td>\n",
       "      <td>2010</td>\n",
       "      <td>['Manual']</td>\n",
       "      <td>79,222</td>\n",
       "      <td>2</td>\n",
       "      <td>Petrol</td>\n",
       "      <td>8,415</td>\n",
       "    </tr>\n",
       "  </tbody>\n",
       "</table>\n",
       "</div>"
      ],
      "text/plain": [
       "   Unnamed: 0                               Car Name     Price  \\\n",
       "0           0  2016 Maruti BalenoZETA 1.2 K12 Manual  6,21,899   \n",
       "1           1      2015 Honda Jazz1.2 V AT Automatic  5,24,199   \n",
       "2           2            2012 Maruti SwiftZDI Manual  4,76,699   \n",
       "3           3         2016 Maruti Alto 800LXI Manual  2,95,499   \n",
       "4           4    2010 Hyundai i20SPORTZ 1.2 O Manual  3,78,299   \n",
       "\n",
       "               EMI                        Features   Location Car Brand  \\\n",
       "0  â‚¹13,834/month  1,03,354 km\\n1st Owner\\nPetrol  Hyderabad    Maruti   \n",
       "1  â‚¹11,661/month    65,571 km\\n2nd Owner\\nPetrol  Hyderabad     Honda   \n",
       "2  â‚¹10,604/month    78,819 km\\n2nd Owner\\nDiesel  Hyderabad    Maruti   \n",
       "3   â‚¹6,573/month    20,215 km\\n2nd Owner\\nPetrol  Hyderabad    Maruti   \n",
       "4   â‚¹8,415/month    79,222 km\\n2nd Owner\\nPetrol  Hyderabad   Hyundai   \n",
       "\n",
       "                    Model  Model Year           Gear Driven (Kms)  Ownership  \\\n",
       "0  ['BalenoZETA 1.2 K12']        2016     ['Manual']     1,03,354          1   \n",
       "1        ['Jazz1.2 V AT']        2015  ['Automatic']       65,571          2   \n",
       "2            ['SwiftZDI']        2012     ['Manual']       78,819          2   \n",
       "3         ['Alto 800LXI']        2016     ['Manual']       20,215          2   \n",
       "4     ['i20SPORTZ 1.2 O']        2010     ['Manual']       79,222          2   \n",
       "\n",
       "     Fuel EMI (monthly)  \n",
       "0  Petrol        13,834  \n",
       "1  Petrol        11,661  \n",
       "2  Diesel        10,604  \n",
       "3  Petrol         6,573  \n",
       "4  Petrol         8,415  "
      ]
     },
     "execution_count": 3,
     "metadata": {},
     "output_type": "execute_result"
    }
   ],
   "source": [
    "df.head()"
   ]
  },
  {
   "cell_type": "markdown",
   "id": "3f34e5f6",
   "metadata": {},
   "source": [
    "# Exploratory Data Analysis (EDA):"
   ]
  },
  {
   "cell_type": "code",
   "execution_count": 4,
   "id": "0155fe0a",
   "metadata": {},
   "outputs": [
    {
     "data": {
      "text/plain": [
       "(3034, 14)"
      ]
     },
     "execution_count": 4,
     "metadata": {},
     "output_type": "execute_result"
    }
   ],
   "source": [
    "df.shape"
   ]
  },
  {
   "cell_type": "code",
   "execution_count": 5,
   "id": "eabf002f",
   "metadata": {},
   "outputs": [
    {
     "data": {
      "text/plain": [
       "Index(['Unnamed: 0', 'Car Name', 'Price', 'EMI', 'Features', 'Location',\n",
       "       'Car Brand', 'Model', 'Model Year', 'Gear', 'Driven (Kms)', 'Ownership',\n",
       "       'Fuel', 'EMI (monthly)'],\n",
       "      dtype='object')"
      ]
     },
     "execution_count": 5,
     "metadata": {},
     "output_type": "execute_result"
    }
   ],
   "source": [
    "df.columns"
   ]
  },
  {
   "cell_type": "markdown",
   "id": "9113ff51",
   "metadata": {},
   "source": [
    "#### Finding number of \"Missing / NAN\" values"
   ]
  },
  {
   "cell_type": "code",
   "execution_count": 6,
   "id": "e2ede0f0",
   "metadata": {},
   "outputs": [
    {
     "data": {
      "text/plain": [
       "Unnamed: 0       0\n",
       "Car Name         0\n",
       "Price            0\n",
       "EMI              0\n",
       "Features         0\n",
       "Location         0\n",
       "Car Brand        0\n",
       "Model            0\n",
       "Model Year       0\n",
       "Gear             0\n",
       "Driven (Kms)     0\n",
       "Ownership        0\n",
       "Fuel             0\n",
       "EMI (monthly)    0\n",
       "dtype: int64"
      ]
     },
     "execution_count": 6,
     "metadata": {},
     "output_type": "execute_result"
    }
   ],
   "source": [
    "df.isnull().sum()"
   ]
  },
  {
   "cell_type": "markdown",
   "id": "48a535e4",
   "metadata": {},
   "source": [
    "###### NO NULL VALUES present in dataset"
   ]
  },
  {
   "cell_type": "markdown",
   "id": "f35d8212",
   "metadata": {},
   "source": [
    "## Removing unwanted columns & rearranging wanted columns"
   ]
  },
  {
   "cell_type": "code",
   "execution_count": 7,
   "id": "e5f49065",
   "metadata": {},
   "outputs": [],
   "source": [
    "cols = ['Car Name', 'Features', 'EMI','Unnamed: 0']\n",
    "columns = ['Car Brand', 'Model', 'Price', 'Model Year','Location' ,'Fuel', 'Driven (Kms)', 'Gear', 'Ownership', 'EMI (monthly)']\n",
    "df = df.drop(cols,axis=1)\n",
    "df = df[columns]"
   ]
  },
  {
   "cell_type": "code",
   "execution_count": 8,
   "id": "68858066",
   "metadata": {},
   "outputs": [
    {
     "data": {
      "text/html": [
       "<div>\n",
       "<style scoped>\n",
       "    .dataframe tbody tr th:only-of-type {\n",
       "        vertical-align: middle;\n",
       "    }\n",
       "\n",
       "    .dataframe tbody tr th {\n",
       "        vertical-align: top;\n",
       "    }\n",
       "\n",
       "    .dataframe thead th {\n",
       "        text-align: right;\n",
       "    }\n",
       "</style>\n",
       "<table border=\"1\" class=\"dataframe\">\n",
       "  <thead>\n",
       "    <tr style=\"text-align: right;\">\n",
       "      <th></th>\n",
       "      <th>Car Brand</th>\n",
       "      <th>Model</th>\n",
       "      <th>Price</th>\n",
       "      <th>Model Year</th>\n",
       "      <th>Location</th>\n",
       "      <th>Fuel</th>\n",
       "      <th>Driven (Kms)</th>\n",
       "      <th>Gear</th>\n",
       "      <th>Ownership</th>\n",
       "      <th>EMI (monthly)</th>\n",
       "    </tr>\n",
       "  </thead>\n",
       "  <tbody>\n",
       "    <tr>\n",
       "      <th>0</th>\n",
       "      <td>Maruti</td>\n",
       "      <td>['BalenoZETA 1.2 K12']</td>\n",
       "      <td>6,21,899</td>\n",
       "      <td>2016</td>\n",
       "      <td>Hyderabad</td>\n",
       "      <td>Petrol</td>\n",
       "      <td>1,03,354</td>\n",
       "      <td>['Manual']</td>\n",
       "      <td>1</td>\n",
       "      <td>13,834</td>\n",
       "    </tr>\n",
       "    <tr>\n",
       "      <th>1</th>\n",
       "      <td>Honda</td>\n",
       "      <td>['Jazz1.2 V AT']</td>\n",
       "      <td>5,24,199</td>\n",
       "      <td>2015</td>\n",
       "      <td>Hyderabad</td>\n",
       "      <td>Petrol</td>\n",
       "      <td>65,571</td>\n",
       "      <td>['Automatic']</td>\n",
       "      <td>2</td>\n",
       "      <td>11,661</td>\n",
       "    </tr>\n",
       "    <tr>\n",
       "      <th>2</th>\n",
       "      <td>Maruti</td>\n",
       "      <td>['SwiftZDI']</td>\n",
       "      <td>4,76,699</td>\n",
       "      <td>2012</td>\n",
       "      <td>Hyderabad</td>\n",
       "      <td>Diesel</td>\n",
       "      <td>78,819</td>\n",
       "      <td>['Manual']</td>\n",
       "      <td>2</td>\n",
       "      <td>10,604</td>\n",
       "    </tr>\n",
       "    <tr>\n",
       "      <th>3</th>\n",
       "      <td>Maruti</td>\n",
       "      <td>['Alto 800LXI']</td>\n",
       "      <td>2,95,499</td>\n",
       "      <td>2016</td>\n",
       "      <td>Hyderabad</td>\n",
       "      <td>Petrol</td>\n",
       "      <td>20,215</td>\n",
       "      <td>['Manual']</td>\n",
       "      <td>2</td>\n",
       "      <td>6,573</td>\n",
       "    </tr>\n",
       "    <tr>\n",
       "      <th>4</th>\n",
       "      <td>Hyundai</td>\n",
       "      <td>['i20SPORTZ 1.2 O']</td>\n",
       "      <td>3,78,299</td>\n",
       "      <td>2010</td>\n",
       "      <td>Hyderabad</td>\n",
       "      <td>Petrol</td>\n",
       "      <td>79,222</td>\n",
       "      <td>['Manual']</td>\n",
       "      <td>2</td>\n",
       "      <td>8,415</td>\n",
       "    </tr>\n",
       "  </tbody>\n",
       "</table>\n",
       "</div>"
      ],
      "text/plain": [
       "  Car Brand                   Model     Price  Model Year   Location    Fuel  \\\n",
       "0    Maruti  ['BalenoZETA 1.2 K12']  6,21,899        2016  Hyderabad  Petrol   \n",
       "1     Honda        ['Jazz1.2 V AT']  5,24,199        2015  Hyderabad  Petrol   \n",
       "2    Maruti            ['SwiftZDI']  4,76,699        2012  Hyderabad  Diesel   \n",
       "3    Maruti         ['Alto 800LXI']  2,95,499        2016  Hyderabad  Petrol   \n",
       "4   Hyundai     ['i20SPORTZ 1.2 O']  3,78,299        2010  Hyderabad  Petrol   \n",
       "\n",
       "  Driven (Kms)           Gear  Ownership EMI (monthly)  \n",
       "0     1,03,354     ['Manual']          1        13,834  \n",
       "1       65,571  ['Automatic']          2        11,661  \n",
       "2       78,819     ['Manual']          2        10,604  \n",
       "3       20,215     ['Manual']          2         6,573  \n",
       "4       79,222     ['Manual']          2         8,415  "
      ]
     },
     "execution_count": 8,
     "metadata": {},
     "output_type": "execute_result"
    }
   ],
   "source": [
    "df.head()"
   ]
  },
  {
   "cell_type": "code",
   "execution_count": 9,
   "id": "aff0798f",
   "metadata": {},
   "outputs": [
    {
     "data": {
      "text/plain": [
       "(3034, 10)"
      ]
     },
     "execution_count": 9,
     "metadata": {},
     "output_type": "execute_result"
    }
   ],
   "source": [
    "df.shape"
   ]
  },
  {
   "cell_type": "code",
   "execution_count": 10,
   "id": "87a99c30",
   "metadata": {},
   "outputs": [],
   "source": [
    "##Cleaning the format of different columns\n",
    "df['Model'] = df['Model'].apply(lambda x : ''.join(x))\n",
    "df['Gear']  = df['Gear'].apply(lambda x: ''.join(x))\n",
    "df['Price'] = df['Price'].apply(lambda x: x.replace(',',''))\n",
    "df['EMI (monthly)'] = df['EMI (monthly)'].apply(lambda x: x.replace(',',''))\n",
    "df['Driven (Kms)'] = df['Driven (Kms)'].apply(lambda x: x.replace(',',''))"
   ]
  },
  {
   "cell_type": "code",
   "execution_count": 11,
   "id": "710913d4",
   "metadata": {},
   "outputs": [
    {
     "data": {
      "text/html": [
       "<div>\n",
       "<style scoped>\n",
       "    .dataframe tbody tr th:only-of-type {\n",
       "        vertical-align: middle;\n",
       "    }\n",
       "\n",
       "    .dataframe tbody tr th {\n",
       "        vertical-align: top;\n",
       "    }\n",
       "\n",
       "    .dataframe thead th {\n",
       "        text-align: right;\n",
       "    }\n",
       "</style>\n",
       "<table border=\"1\" class=\"dataframe\">\n",
       "  <thead>\n",
       "    <tr style=\"text-align: right;\">\n",
       "      <th></th>\n",
       "      <th>Car Brand</th>\n",
       "      <th>Model</th>\n",
       "      <th>Price</th>\n",
       "      <th>Model Year</th>\n",
       "      <th>Location</th>\n",
       "      <th>Fuel</th>\n",
       "      <th>Driven (Kms)</th>\n",
       "      <th>Gear</th>\n",
       "      <th>Ownership</th>\n",
       "      <th>EMI (monthly)</th>\n",
       "    </tr>\n",
       "  </thead>\n",
       "  <tbody>\n",
       "    <tr>\n",
       "      <th>0</th>\n",
       "      <td>Maruti</td>\n",
       "      <td>['BalenoZETA 1.2 K12']</td>\n",
       "      <td>621899</td>\n",
       "      <td>2016</td>\n",
       "      <td>Hyderabad</td>\n",
       "      <td>Petrol</td>\n",
       "      <td>103354</td>\n",
       "      <td>['Manual']</td>\n",
       "      <td>1</td>\n",
       "      <td>13834</td>\n",
       "    </tr>\n",
       "    <tr>\n",
       "      <th>1</th>\n",
       "      <td>Honda</td>\n",
       "      <td>['Jazz1.2 V AT']</td>\n",
       "      <td>524199</td>\n",
       "      <td>2015</td>\n",
       "      <td>Hyderabad</td>\n",
       "      <td>Petrol</td>\n",
       "      <td>65571</td>\n",
       "      <td>['Automatic']</td>\n",
       "      <td>2</td>\n",
       "      <td>11661</td>\n",
       "    </tr>\n",
       "    <tr>\n",
       "      <th>2</th>\n",
       "      <td>Maruti</td>\n",
       "      <td>['SwiftZDI']</td>\n",
       "      <td>476699</td>\n",
       "      <td>2012</td>\n",
       "      <td>Hyderabad</td>\n",
       "      <td>Diesel</td>\n",
       "      <td>78819</td>\n",
       "      <td>['Manual']</td>\n",
       "      <td>2</td>\n",
       "      <td>10604</td>\n",
       "    </tr>\n",
       "    <tr>\n",
       "      <th>3</th>\n",
       "      <td>Maruti</td>\n",
       "      <td>['Alto 800LXI']</td>\n",
       "      <td>295499</td>\n",
       "      <td>2016</td>\n",
       "      <td>Hyderabad</td>\n",
       "      <td>Petrol</td>\n",
       "      <td>20215</td>\n",
       "      <td>['Manual']</td>\n",
       "      <td>2</td>\n",
       "      <td>6573</td>\n",
       "    </tr>\n",
       "    <tr>\n",
       "      <th>4</th>\n",
       "      <td>Hyundai</td>\n",
       "      <td>['i20SPORTZ 1.2 O']</td>\n",
       "      <td>378299</td>\n",
       "      <td>2010</td>\n",
       "      <td>Hyderabad</td>\n",
       "      <td>Petrol</td>\n",
       "      <td>79222</td>\n",
       "      <td>['Manual']</td>\n",
       "      <td>2</td>\n",
       "      <td>8415</td>\n",
       "    </tr>\n",
       "  </tbody>\n",
       "</table>\n",
       "</div>"
      ],
      "text/plain": [
       "  Car Brand                   Model   Price  Model Year   Location    Fuel  \\\n",
       "0    Maruti  ['BalenoZETA 1.2 K12']  621899        2016  Hyderabad  Petrol   \n",
       "1     Honda        ['Jazz1.2 V AT']  524199        2015  Hyderabad  Petrol   \n",
       "2    Maruti            ['SwiftZDI']  476699        2012  Hyderabad  Diesel   \n",
       "3    Maruti         ['Alto 800LXI']  295499        2016  Hyderabad  Petrol   \n",
       "4   Hyundai     ['i20SPORTZ 1.2 O']  378299        2010  Hyderabad  Petrol   \n",
       "\n",
       "  Driven (Kms)           Gear  Ownership EMI (monthly)  \n",
       "0       103354     ['Manual']          1         13834  \n",
       "1        65571  ['Automatic']          2         11661  \n",
       "2        78819     ['Manual']          2         10604  \n",
       "3        20215     ['Manual']          2          6573  \n",
       "4        79222     ['Manual']          2          8415  "
      ]
     },
     "execution_count": 11,
     "metadata": {},
     "output_type": "execute_result"
    }
   ],
   "source": [
    "df.head()"
   ]
  },
  {
   "cell_type": "code",
   "execution_count": 12,
   "id": "397d553b",
   "metadata": {},
   "outputs": [],
   "source": [
    "#Removing duplicated rows\n",
    "df = df.drop_duplicates(keep='first')"
   ]
  },
  {
   "cell_type": "code",
   "execution_count": 13,
   "id": "f0205b67",
   "metadata": {},
   "outputs": [
    {
     "data": {
      "text/plain": [
       "(3034, 10)"
      ]
     },
     "execution_count": 13,
     "metadata": {},
     "output_type": "execute_result"
    }
   ],
   "source": [
    "df.shape"
   ]
  },
  {
   "cell_type": "code",
   "execution_count": 14,
   "id": "3b2baedc",
   "metadata": {},
   "outputs": [
    {
     "name": "stdout",
     "output_type": "stream",
     "text": [
      "<class 'pandas.core.frame.DataFrame'>\n",
      "Int64Index: 3034 entries, 0 to 3033\n",
      "Data columns (total 10 columns):\n",
      " #   Column         Non-Null Count  Dtype \n",
      "---  ------         --------------  ----- \n",
      " 0   Car Brand      3034 non-null   object\n",
      " 1   Model          3034 non-null   object\n",
      " 2   Price          3034 non-null   object\n",
      " 3   Model Year     3034 non-null   int64 \n",
      " 4   Location       3034 non-null   object\n",
      " 5   Fuel           3034 non-null   object\n",
      " 6   Driven (Kms)   3034 non-null   object\n",
      " 7   Gear           3034 non-null   object\n",
      " 8   Ownership      3034 non-null   int64 \n",
      " 9   EMI (monthly)  3034 non-null   object\n",
      "dtypes: int64(2), object(8)\n",
      "memory usage: 260.7+ KB\n"
     ]
    }
   ],
   "source": [
    "df.info()"
   ]
  },
  {
   "cell_type": "code",
   "execution_count": 15,
   "id": "7c4aeb7f",
   "metadata": {},
   "outputs": [
    {
     "data": {
      "text/plain": [
       "Car Brand        object\n",
       "Model            object\n",
       "Price            object\n",
       "Model Year        int64\n",
       "Location         object\n",
       "Fuel             object\n",
       "Driven (Kms)     object\n",
       "Gear             object\n",
       "Ownership         int64\n",
       "EMI (monthly)    object\n",
       "dtype: object"
      ]
     },
     "execution_count": 15,
     "metadata": {},
     "output_type": "execute_result"
    }
   ],
   "source": [
    "df.dtypes"
   ]
  },
  {
   "cell_type": "code",
   "execution_count": 16,
   "id": "f1861be0",
   "metadata": {},
   "outputs": [
    {
     "data": {
      "text/plain": [
       "Int64Index([   0,    1,    2,    3,    4,    5,    6,    7,    8,    9,\n",
       "            ...\n",
       "            3024, 3025, 3026, 3027, 3028, 3029, 3030, 3031, 3032, 3033],\n",
       "           dtype='int64', length=3034)"
      ]
     },
     "execution_count": 16,
     "metadata": {},
     "output_type": "execute_result"
    }
   ],
   "source": [
    "df.index"
   ]
  },
  {
   "cell_type": "code",
   "execution_count": 17,
   "id": "d177e35b",
   "metadata": {},
   "outputs": [
    {
     "data": {
      "text/html": [
       "<div>\n",
       "<style scoped>\n",
       "    .dataframe tbody tr th:only-of-type {\n",
       "        vertical-align: middle;\n",
       "    }\n",
       "\n",
       "    .dataframe tbody tr th {\n",
       "        vertical-align: top;\n",
       "    }\n",
       "\n",
       "    .dataframe thead th {\n",
       "        text-align: right;\n",
       "    }\n",
       "</style>\n",
       "<table border=\"1\" class=\"dataframe\">\n",
       "  <thead>\n",
       "    <tr style=\"text-align: right;\">\n",
       "      <th></th>\n",
       "      <th>Car Brand</th>\n",
       "      <th>Model</th>\n",
       "      <th>Price</th>\n",
       "      <th>Model Year</th>\n",
       "      <th>Location</th>\n",
       "      <th>Fuel</th>\n",
       "      <th>Driven (Kms)</th>\n",
       "      <th>Gear</th>\n",
       "      <th>Ownership</th>\n",
       "      <th>EMI (monthly)</th>\n",
       "    </tr>\n",
       "  </thead>\n",
       "  <tbody>\n",
       "    <tr>\n",
       "      <th>count</th>\n",
       "      <td>3034</td>\n",
       "      <td>3034</td>\n",
       "      <td>3034</td>\n",
       "      <td>3034.000000</td>\n",
       "      <td>3034</td>\n",
       "      <td>3034</td>\n",
       "      <td>3034</td>\n",
       "      <td>3034</td>\n",
       "      <td>3034.000000</td>\n",
       "      <td>3034</td>\n",
       "    </tr>\n",
       "    <tr>\n",
       "      <th>unique</th>\n",
       "      <td>21</td>\n",
       "      <td>612</td>\n",
       "      <td>2406</td>\n",
       "      <td>NaN</td>\n",
       "      <td>5</td>\n",
       "      <td>4</td>\n",
       "      <td>2987</td>\n",
       "      <td>3</td>\n",
       "      <td>NaN</td>\n",
       "      <td>2406</td>\n",
       "    </tr>\n",
       "    <tr>\n",
       "      <th>top</th>\n",
       "      <td>Maruti</td>\n",
       "      <td>['Wagon R 1.0VXI']</td>\n",
       "      <td>466499</td>\n",
       "      <td>NaN</td>\n",
       "      <td>Mumbai</td>\n",
       "      <td>Petrol</td>\n",
       "      <td>23602</td>\n",
       "      <td>['Manual']</td>\n",
       "      <td>NaN</td>\n",
       "      <td>10377</td>\n",
       "    </tr>\n",
       "    <tr>\n",
       "      <th>freq</th>\n",
       "      <td>1428</td>\n",
       "      <td>85</td>\n",
       "      <td>10</td>\n",
       "      <td>NaN</td>\n",
       "      <td>1126</td>\n",
       "      <td>2222</td>\n",
       "      <td>2</td>\n",
       "      <td>2417</td>\n",
       "      <td>NaN</td>\n",
       "      <td>10</td>\n",
       "    </tr>\n",
       "    <tr>\n",
       "      <th>mean</th>\n",
       "      <td>NaN</td>\n",
       "      <td>NaN</td>\n",
       "      <td>NaN</td>\n",
       "      <td>2016.290705</td>\n",
       "      <td>NaN</td>\n",
       "      <td>NaN</td>\n",
       "      <td>NaN</td>\n",
       "      <td>NaN</td>\n",
       "      <td>1.224127</td>\n",
       "      <td>NaN</td>\n",
       "    </tr>\n",
       "    <tr>\n",
       "      <th>std</th>\n",
       "      <td>NaN</td>\n",
       "      <td>NaN</td>\n",
       "      <td>NaN</td>\n",
       "      <td>2.236554</td>\n",
       "      <td>NaN</td>\n",
       "      <td>NaN</td>\n",
       "      <td>NaN</td>\n",
       "      <td>NaN</td>\n",
       "      <td>0.472660</td>\n",
       "      <td>NaN</td>\n",
       "    </tr>\n",
       "    <tr>\n",
       "      <th>min</th>\n",
       "      <td>NaN</td>\n",
       "      <td>NaN</td>\n",
       "      <td>NaN</td>\n",
       "      <td>2008.000000</td>\n",
       "      <td>NaN</td>\n",
       "      <td>NaN</td>\n",
       "      <td>NaN</td>\n",
       "      <td>NaN</td>\n",
       "      <td>1.000000</td>\n",
       "      <td>NaN</td>\n",
       "    </tr>\n",
       "    <tr>\n",
       "      <th>25%</th>\n",
       "      <td>NaN</td>\n",
       "      <td>NaN</td>\n",
       "      <td>NaN</td>\n",
       "      <td>2015.000000</td>\n",
       "      <td>NaN</td>\n",
       "      <td>NaN</td>\n",
       "      <td>NaN</td>\n",
       "      <td>NaN</td>\n",
       "      <td>1.000000</td>\n",
       "      <td>NaN</td>\n",
       "    </tr>\n",
       "    <tr>\n",
       "      <th>50%</th>\n",
       "      <td>NaN</td>\n",
       "      <td>NaN</td>\n",
       "      <td>NaN</td>\n",
       "      <td>2017.000000</td>\n",
       "      <td>NaN</td>\n",
       "      <td>NaN</td>\n",
       "      <td>NaN</td>\n",
       "      <td>NaN</td>\n",
       "      <td>1.000000</td>\n",
       "      <td>NaN</td>\n",
       "    </tr>\n",
       "    <tr>\n",
       "      <th>75%</th>\n",
       "      <td>NaN</td>\n",
       "      <td>NaN</td>\n",
       "      <td>NaN</td>\n",
       "      <td>2018.000000</td>\n",
       "      <td>NaN</td>\n",
       "      <td>NaN</td>\n",
       "      <td>NaN</td>\n",
       "      <td>NaN</td>\n",
       "      <td>1.000000</td>\n",
       "      <td>NaN</td>\n",
       "    </tr>\n",
       "    <tr>\n",
       "      <th>max</th>\n",
       "      <td>NaN</td>\n",
       "      <td>NaN</td>\n",
       "      <td>NaN</td>\n",
       "      <td>2021.000000</td>\n",
       "      <td>NaN</td>\n",
       "      <td>NaN</td>\n",
       "      <td>NaN</td>\n",
       "      <td>NaN</td>\n",
       "      <td>5.000000</td>\n",
       "      <td>NaN</td>\n",
       "    </tr>\n",
       "  </tbody>\n",
       "</table>\n",
       "</div>"
      ],
      "text/plain": [
       "       Car Brand               Model   Price   Model Year Location    Fuel  \\\n",
       "count       3034                3034    3034  3034.000000     3034    3034   \n",
       "unique        21                 612    2406          NaN        5       4   \n",
       "top       Maruti  ['Wagon R 1.0VXI']  466499          NaN   Mumbai  Petrol   \n",
       "freq        1428                  85      10          NaN     1126    2222   \n",
       "mean         NaN                 NaN     NaN  2016.290705      NaN     NaN   \n",
       "std          NaN                 NaN     NaN     2.236554      NaN     NaN   \n",
       "min          NaN                 NaN     NaN  2008.000000      NaN     NaN   \n",
       "25%          NaN                 NaN     NaN  2015.000000      NaN     NaN   \n",
       "50%          NaN                 NaN     NaN  2017.000000      NaN     NaN   \n",
       "75%          NaN                 NaN     NaN  2018.000000      NaN     NaN   \n",
       "max          NaN                 NaN     NaN  2021.000000      NaN     NaN   \n",
       "\n",
       "       Driven (Kms)        Gear    Ownership EMI (monthly)  \n",
       "count          3034        3034  3034.000000          3034  \n",
       "unique         2987           3          NaN          2406  \n",
       "top           23602  ['Manual']          NaN         10377  \n",
       "freq              2        2417          NaN            10  \n",
       "mean            NaN         NaN     1.224127           NaN  \n",
       "std             NaN         NaN     0.472660           NaN  \n",
       "min             NaN         NaN     1.000000           NaN  \n",
       "25%             NaN         NaN     1.000000           NaN  \n",
       "50%             NaN         NaN     1.000000           NaN  \n",
       "75%             NaN         NaN     1.000000           NaN  \n",
       "max             NaN         NaN     5.000000           NaN  "
      ]
     },
     "execution_count": 17,
     "metadata": {},
     "output_type": "execute_result"
    }
   ],
   "source": [
    "#statistical summmary\n",
    "df.describe(include='all')"
   ]
  },
  {
   "cell_type": "markdown",
   "id": "cf750a2f",
   "metadata": {},
   "source": [
    "#### Some statistical details can't be calculated for object type so it gives 'NaN' values"
   ]
  },
  {
   "cell_type": "code",
   "execution_count": 18,
   "id": "2bceba93",
   "metadata": {},
   "outputs": [
    {
     "data": {
      "image/png": "[encoded data removed]",
      "text/plain": [
       "<Figure size 1080x720 with 2 Axes>"
      ]
     },
     "metadata": {
      "needs_background": "light"
     },
     "output_type": "display_data"
    }
   ],
   "source": [
    "#visualize \n",
    "plt.figure(figsize=(15,10))\n",
    "sns.heatmap(df.describe(),linewidths=0.1,fmt='0.1f',annot=True)\n",
    "plt.show()"
   ]
  },
  {
   "cell_type": "code",
   "execution_count": 19,
   "id": "d5a6f488",
   "metadata": {},
   "outputs": [
    {
     "data": {
      "text/plain": [
       "array(['621899', '524199', '476699', ..., '260499', '691099', '357099'],\n",
       "      dtype=object)"
      ]
     },
     "execution_count": 19,
     "metadata": {},
     "output_type": "execute_result"
    }
   ],
   "source": [
    "#Analyzing the Target Class\n",
    "df['Price'].unique()"
   ]
  },
  {
   "cell_type": "code",
   "execution_count": 20,
   "id": "3189a189",
   "metadata": {},
   "outputs": [
    {
     "data": {
      "text/plain": [
       "466499    10\n",
       "320999    10\n",
       "299199     7\n",
       "891799     7\n",
       "573599     7\n",
       "          ..\n",
       "817899     1\n",
       "654999     1\n",
       "690199     1\n",
       "233399     1\n",
       "527399     1\n",
       "Name: Price, Length: 2406, dtype: int64"
      ]
     },
     "execution_count": 20,
     "metadata": {},
     "output_type": "execute_result"
    }
   ],
   "source": [
    "df['Price'].value_counts()"
   ]
  },
  {
   "cell_type": "code",
   "execution_count": 21,
   "id": "98afa9b5",
   "metadata": {},
   "outputs": [
    {
     "data": {
      "image/png": "[encoded data removed]",
      "text/plain": [
       "<Figure size 864x576 with 1 Axes>"
      ]
     },
     "metadata": {
      "needs_background": "light"
     },
     "output_type": "display_data"
    }
   ],
   "source": [
    "plt.figure(figsize=(12,8))\n",
    "sns.distplot(df['Price'])\n",
    "plt.show()"
   ]
  },
  {
   "cell_type": "code",
   "execution_count": 22,
   "id": "5c33bf64",
   "metadata": {},
   "outputs": [
    {
     "data": {
      "text/plain": [
       "array(['Hyderabad', 'Delhi', 'Mumbai', 'Bangalore', 'Chennai'],\n",
       "      dtype=object)"
      ]
     },
     "execution_count": 22,
     "metadata": {},
     "output_type": "execute_result"
    }
   ],
   "source": [
    "#Total number of cars in different Cities\n",
    "df['Location'].unique()"
   ]
  },
  {
   "cell_type": "code",
   "execution_count": 23,
   "id": "f3c6ae72",
   "metadata": {},
   "outputs": [
    {
     "data": {
      "text/plain": [
       "Mumbai       1126\n",
       "Delhi         674\n",
       "Chennai       638\n",
       "Bangalore     478\n",
       "Hyderabad     118\n",
       "Name: Location, dtype: int64"
      ]
     },
     "execution_count": 23,
     "metadata": {},
     "output_type": "execute_result"
    }
   ],
   "source": [
    "df['Location'].value_counts()"
   ]
  },
  {
   "cell_type": "code",
   "execution_count": 24,
   "id": "c20c91b2",
   "metadata": {},
   "outputs": [
    {
     "data": {
      "image/png": "[encoded data removed]",
      "text/plain": [
       "<Figure size 864x576 with 1 Axes>"
      ]
     },
     "metadata": {
      "needs_background": "light"
     },
     "output_type": "display_data"
    }
   ],
   "source": [
    "plt.figure(figsize=(12,8))\n",
    "sns.countplot(df['Location'])\n",
    "plt.title(\"Total Number of CAR in Differnt Locations\",fontsize=12)\n",
    "plt.show()"
   ]
  },
  {
   "cell_type": "markdown",
   "id": "c28aa51a",
   "metadata": {},
   "source": [
    "## Mumbai       1126\n",
    "## Delhi         674\n",
    "## Chennai       638\n",
    "## Bangalore     478\n",
    "## Hyderabad     118 "
   ]
  },
  {
   "cell_type": "code",
   "execution_count": 25,
   "id": "fe37bb7a",
   "metadata": {},
   "outputs": [
    {
     "data": {
      "text/plain": [
       "array(['Maruti', 'Honda', 'Hyundai', 'Volkswagen', 'Datsun', 'Renault',\n",
       "       'Ford', 'Toyota', 'Skoda', 'Tata', 'Nissan', 'Audi', 'KIA', 'BMW',\n",
       "       'Mercedes', 'Mahindra', 'MG', 'Ssangyong', 'Jeep', 'Jaguar',\n",
       "       'Fiat'], dtype=object)"
      ]
     },
     "execution_count": 25,
     "metadata": {},
     "output_type": "execute_result"
    }
   ],
   "source": [
    "#No. of different Brands in all Cities\n",
    "df['Car Brand'].unique()"
   ]
  },
  {
   "cell_type": "code",
   "execution_count": 26,
   "id": "1741582a",
   "metadata": {},
   "outputs": [
    {
     "data": {
      "text/plain": [
       "Maruti        1428\n",
       "Hyundai        711\n",
       "Ford           200\n",
       "Honda          194\n",
       "Renault        115\n",
       "Tata            91\n",
       "Toyota          80\n",
       "Volkswagen      75\n",
       "Mahindra        30\n",
       "MG              22\n",
       "Skoda           14\n",
       "BMW             13\n",
       "Datsun          13\n",
       "KIA             13\n",
       "Nissan          12\n",
       "Jeep            11\n",
       "Audi             7\n",
       "Mercedes         2\n",
       "Jaguar           1\n",
       "Fiat             1\n",
       "Ssangyong        1\n",
       "Name: Car Brand, dtype: int64"
      ]
     },
     "execution_count": 26,
     "metadata": {},
     "output_type": "execute_result"
    }
   ],
   "source": [
    "df['Car Brand'].value_counts()"
   ]
  },
  {
   "cell_type": "code",
   "execution_count": 27,
   "id": "da0ed293",
   "metadata": {},
   "outputs": [
    {
     "data": {
      "image/png": "[encoded data removed]",
      "text/plain": [
       "<Figure size 1296x864 with 1 Axes>"
      ]
     },
     "metadata": {
      "needs_background": "light"
     },
     "output_type": "display_data"
    }
   ],
   "source": [
    "plt.figure(figsize=(18,12))\n",
    "sns.countplot(df['Car Brand'])\n",
    "plt.title(\"Differnt Car Brands\")\n",
    "plt.show()"
   ]
  },
  {
   "cell_type": "code",
   "execution_count": 28,
   "id": "3114b1b2",
   "metadata": {},
   "outputs": [],
   "source": [
    "#Total no. of different Car Brands in Hyderabad\n",
    "hyd_city = df.loc[(df['Location'] == 'Hyderabad')]"
   ]
  },
  {
   "cell_type": "code",
   "execution_count": 29,
   "id": "f9839990",
   "metadata": {},
   "outputs": [],
   "source": [
    "hyd_brands = hyd_city['Car Brand'].value_counts().sort_values(ascending=False).reset_index().rename(columns={'Car Brand':'Count','index':'Brand'})"
   ]
  },
  {
   "cell_type": "code",
   "execution_count": 30,
   "id": "e6288fef",
   "metadata": {},
   "outputs": [
    {
     "data": {
      "image/png": "[encoded data removed]",
      "text/plain": [
       "<Figure size 1080x864 with 1 Axes>"
      ]
     },
     "metadata": {
      "needs_background": "light"
     },
     "output_type": "display_data"
    }
   ],
   "source": [
    "plt.figure(figsize=(15,12))\n",
    "plt.scatter('Brand','Count',data=hyd_brands,marker='D',color='k')\n",
    "plt.title(\"Differnt Brand In Hyderdbad\",fontsize=28)\n",
    "plt.xlabel(\"Brand names\",fontsize=18)\n",
    "plt.ylabel(\"No.of Cars\",fontsize=18)\n",
    "plt.show()"
   ]
  },
  {
   "cell_type": "code",
   "execution_count": 31,
   "id": "299ab96e",
   "metadata": {},
   "outputs": [],
   "source": [
    "#Total no. of different Car Brands in Delhi¶\n",
    "del_city = df.loc[(df['Location'] == 'Delhi')]\n",
    "del_brands = del_city['Car Brand'].value_counts().sort_values(ascending = False).reset_index().rename(columns={\n",
    "    'Car Brand':'Count','index':'Brand'})"
   ]
  },
  {
   "cell_type": "code",
   "execution_count": 32,
   "id": "d43764c0",
   "metadata": {},
   "outputs": [
    {
     "data": {
      "image/png": "[encoded data removed]",
      "text/plain": [
       "<Figure size 1296x720 with 1 Axes>"
      ]
     },
     "metadata": {
      "needs_background": "light"
     },
     "output_type": "display_data"
    }
   ],
   "source": [
    "plt.figure(figsize=(18,10))\n",
    "plt.scatter('Brand','Count',data=del_brands,color='k',marker='D')\n",
    "plt.title(\"Total no. of different car brands in Delhi\",fontsize=28)\n",
    "plt.xlabel(\"Brand Name\", fontsize = 18)\n",
    "plt.ylabel(\"No. of Cars\", fontsize =18)\n",
    "plt.show()"
   ]
  },
  {
   "cell_type": "code",
   "execution_count": 33,
   "id": "46001b48",
   "metadata": {},
   "outputs": [],
   "source": [
    "#Total no. of different Car Brands in Mumbai\n",
    "mum_city = df.loc[(df['Location']=='Mumbai')]"
   ]
  },
  {
   "cell_type": "code",
   "execution_count": 34,
   "id": "bd660ddb",
   "metadata": {},
   "outputs": [],
   "source": [
    "mum_brands = mum_city['Car Brand'].value_counts().sort_values(ascending=False).reset_index().rename(columns={'Car Brand':'Count','index':'Brands'})"
   ]
  },
  {
   "cell_type": "code",
   "execution_count": 35,
   "id": "06fb34e1",
   "metadata": {},
   "outputs": [
    {
     "data": {
      "image/png": "[encoded data removed]",
      "text/plain": [
       "<Figure size 1296x720 with 1 Axes>"
      ]
     },
     "metadata": {
      "needs_background": "light"
     },
     "output_type": "display_data"
    }
   ],
   "source": [
    "plt.figure(figsize=(18,10))\n",
    "plt.scatter('Brands','Count',data=mum_brands,color='k',marker='D')\n",
    "plt.title(\"Differnt Car Brans In Mumbai\",fontsize=30)\n",
    "plt.xlabel(\"Brands Name\",fontsize=18)\n",
    "plt.ylabel(\"no.of cars\",fontsize=18)\n",
    "plt.show()"
   ]
  },
  {
   "cell_type": "code",
   "execution_count": 36,
   "id": "1c0c8a7b",
   "metadata": {},
   "outputs": [],
   "source": [
    "#Total no. of different Car Brands in Bangalore\n",
    "bangalore_city = df.loc[(df['Location'] == 'Bangalore')]"
   ]
  },
  {
   "cell_type": "code",
   "execution_count": 37,
   "id": "6004ea72",
   "metadata": {},
   "outputs": [],
   "source": [
    "bangalore_brands = bangalore_city['Car Brand'].value_counts().sort_values(ascending = False).reset_index().rename(columns={\n",
    "    'Car Brand':'Count','index':'Brand'})"
   ]
  },
  {
   "cell_type": "code",
   "execution_count": 38,
   "id": "5129fa42",
   "metadata": {},
   "outputs": [
    {
     "data": {
      "image/png": "[encoded data removed]",
      "text/plain": [
       "<Figure size 1296x864 with 1 Axes>"
      ]
     },
     "metadata": {
      "needs_background": "light"
     },
     "output_type": "display_data"
    }
   ],
   "source": [
    "plt.figure(figsize=(18,12))\n",
    "plt.stem('Brand','Count',data=bangalore_brands)\n",
    "plt.title(\"Total no. of different car brands in Bangalore\",fontsize=30,color='maroon')\n",
    "plt.xlabel(\"Brand Name\", fontsize = 18)\n",
    "plt.ylabel(\"No. of Cars\", fontsize = 18)\n",
    "plt.show()"
   ]
  },
  {
   "cell_type": "code",
   "execution_count": 39,
   "id": "9af9aca0",
   "metadata": {},
   "outputs": [],
   "source": [
    "#Total no. of different Car Brands in Chennai\n",
    "chennai_city = df.loc[(df['Location'] == 'Chennai')]"
   ]
  },
  {
   "cell_type": "code",
   "execution_count": 40,
   "id": "04d82d07",
   "metadata": {},
   "outputs": [],
   "source": [
    "chennai_brands = chennai_city['Car Brand'].value_counts().sort_values(ascending = True).reset_index().rename(columns={\n",
    "    'Car Brand':'Count','index':'Brand'})"
   ]
  },
  {
   "cell_type": "code",
   "execution_count": 41,
   "id": "06a3530a",
   "metadata": {},
   "outputs": [
    {
     "data": {
      "image/png": "[encoded data removed]",
      "text/plain": [
       "<Figure size 1296x864 with 1 Axes>"
      ]
     },
     "metadata": {
      "needs_background": "light"
     },
     "output_type": "display_data"
    }
   ],
   "source": [
    "plt.figure(figsize=(18,12))\n",
    "sns.barplot(x ='Brand',y='Count',data=chennai_brands)\n",
    "plt.show()"
   ]
  },
  {
   "cell_type": "code",
   "execution_count": 42,
   "id": "7333c831",
   "metadata": {},
   "outputs": [],
   "source": [
    "#Number of Cars based on Fuel type in all cities\n",
    "fuel_type = df.groupby(by=['Fuel'])['Location'].count().sort_values(ascending=False).reset_index().rename(columns={'Location':'Count'})"
   ]
  },
  {
   "cell_type": "code",
   "execution_count": 43,
   "id": "ae9a4761",
   "metadata": {},
   "outputs": [
    {
     "data": {
      "text/html": [
       "<div>\n",
       "<style scoped>\n",
       "    .dataframe tbody tr th:only-of-type {\n",
       "        vertical-align: middle;\n",
       "    }\n",
       "\n",
       "    .dataframe tbody tr th {\n",
       "        vertical-align: top;\n",
       "    }\n",
       "\n",
       "    .dataframe thead th {\n",
       "        text-align: right;\n",
       "    }\n",
       "</style>\n",
       "<table border=\"1\" class=\"dataframe\">\n",
       "  <thead>\n",
       "    <tr style=\"text-align: right;\">\n",
       "      <th></th>\n",
       "      <th>Fuel</th>\n",
       "      <th>Count</th>\n",
       "    </tr>\n",
       "  </thead>\n",
       "  <tbody>\n",
       "    <tr>\n",
       "      <th>0</th>\n",
       "      <td>Petrol</td>\n",
       "      <td>2222</td>\n",
       "    </tr>\n",
       "    <tr>\n",
       "      <th>1</th>\n",
       "      <td>Diesel</td>\n",
       "      <td>778</td>\n",
       "    </tr>\n",
       "    <tr>\n",
       "      <th>2</th>\n",
       "      <td>Petrol + CNG</td>\n",
       "      <td>33</td>\n",
       "    </tr>\n",
       "    <tr>\n",
       "      <th>3</th>\n",
       "      <td>Petrol + LPG</td>\n",
       "      <td>1</td>\n",
       "    </tr>\n",
       "  </tbody>\n",
       "</table>\n",
       "</div>"
      ],
      "text/plain": [
       "           Fuel  Count\n",
       "0        Petrol   2222\n",
       "1        Diesel    778\n",
       "2  Petrol + CNG     33\n",
       "3  Petrol + LPG      1"
      ]
     },
     "execution_count": 43,
     "metadata": {},
     "output_type": "execute_result"
    }
   ],
   "source": [
    "fuel_type"
   ]
  },
  {
   "cell_type": "code",
   "execution_count": 44,
   "id": "017ba8a2",
   "metadata": {},
   "outputs": [
    {
     "data": {
      "image/png": "[encoded data removed]",
      "text/plain": [
       "<Figure size 1296x720 with 1 Axes>"
      ]
     },
     "metadata": {
      "needs_background": "light"
     },
     "output_type": "display_data"
    }
   ],
   "source": [
    "plt.figure(figsize=(18,10))\n",
    "sns.barplot(x='Fuel',y='Count',data=fuel_type)\n",
    "plt.title(\"Number of Cars based on Fuel type in all cities\",fontsize=18)\n",
    "plt.show()"
   ]
  },
  {
   "cell_type": "code",
   "execution_count": 45,
   "id": "19771c70",
   "metadata": {},
   "outputs": [],
   "source": [
    "#No. of Cars based on Fuel type in different Cities\n",
    "fuel_location = df.groupby(by=['Location','Fuel'])['Gear'].count().reset_index().rename(columns={'Gear':'Count','Count':'Fuel'})\n",
    "fuel_location = fuel_location.sort_values(by=['Location','Count'],ascending=True).reset_index()\n",
    "fuel_location = fuel_location.drop('index',axis=1)"
   ]
  },
  {
   "cell_type": "code",
   "execution_count": 46,
   "id": "e50ab18f",
   "metadata": {},
   "outputs": [
    {
     "data": {
      "text/html": [
       "<div>\n",
       "<style scoped>\n",
       "    .dataframe tbody tr th:only-of-type {\n",
       "        vertical-align: middle;\n",
       "    }\n",
       "\n",
       "    .dataframe tbody tr th {\n",
       "        vertical-align: top;\n",
       "    }\n",
       "\n",
       "    .dataframe thead th {\n",
       "        text-align: right;\n",
       "    }\n",
       "</style>\n",
       "<table border=\"1\" class=\"dataframe\">\n",
       "  <thead>\n",
       "    <tr style=\"text-align: right;\">\n",
       "      <th></th>\n",
       "      <th>Location</th>\n",
       "      <th>Fuel</th>\n",
       "      <th>Count</th>\n",
       "    </tr>\n",
       "  </thead>\n",
       "  <tbody>\n",
       "    <tr>\n",
       "      <th>0</th>\n",
       "      <td>Bangalore</td>\n",
       "      <td>Petrol + LPG</td>\n",
       "      <td>1</td>\n",
       "    </tr>\n",
       "    <tr>\n",
       "      <th>1</th>\n",
       "      <td>Bangalore</td>\n",
       "      <td>Diesel</td>\n",
       "      <td>56</td>\n",
       "    </tr>\n",
       "    <tr>\n",
       "      <th>2</th>\n",
       "      <td>Bangalore</td>\n",
       "      <td>Petrol</td>\n",
       "      <td>421</td>\n",
       "    </tr>\n",
       "    <tr>\n",
       "      <th>3</th>\n",
       "      <td>Chennai</td>\n",
       "      <td>Diesel</td>\n",
       "      <td>71</td>\n",
       "    </tr>\n",
       "    <tr>\n",
       "      <th>4</th>\n",
       "      <td>Chennai</td>\n",
       "      <td>Petrol</td>\n",
       "      <td>567</td>\n",
       "    </tr>\n",
       "    <tr>\n",
       "      <th>5</th>\n",
       "      <td>Delhi</td>\n",
       "      <td>Petrol + CNG</td>\n",
       "      <td>11</td>\n",
       "    </tr>\n",
       "    <tr>\n",
       "      <th>6</th>\n",
       "      <td>Delhi</td>\n",
       "      <td>Diesel</td>\n",
       "      <td>308</td>\n",
       "    </tr>\n",
       "    <tr>\n",
       "      <th>7</th>\n",
       "      <td>Delhi</td>\n",
       "      <td>Petrol</td>\n",
       "      <td>355</td>\n",
       "    </tr>\n",
       "    <tr>\n",
       "      <th>8</th>\n",
       "      <td>Hyderabad</td>\n",
       "      <td>Diesel</td>\n",
       "      <td>20</td>\n",
       "    </tr>\n",
       "    <tr>\n",
       "      <th>9</th>\n",
       "      <td>Hyderabad</td>\n",
       "      <td>Petrol</td>\n",
       "      <td>98</td>\n",
       "    </tr>\n",
       "    <tr>\n",
       "      <th>10</th>\n",
       "      <td>Mumbai</td>\n",
       "      <td>Petrol + CNG</td>\n",
       "      <td>22</td>\n",
       "    </tr>\n",
       "    <tr>\n",
       "      <th>11</th>\n",
       "      <td>Mumbai</td>\n",
       "      <td>Diesel</td>\n",
       "      <td>323</td>\n",
       "    </tr>\n",
       "    <tr>\n",
       "      <th>12</th>\n",
       "      <td>Mumbai</td>\n",
       "      <td>Petrol</td>\n",
       "      <td>781</td>\n",
       "    </tr>\n",
       "  </tbody>\n",
       "</table>\n",
       "</div>"
      ],
      "text/plain": [
       "     Location          Fuel  Count\n",
       "0   Bangalore  Petrol + LPG      1\n",
       "1   Bangalore        Diesel     56\n",
       "2   Bangalore        Petrol    421\n",
       "3     Chennai        Diesel     71\n",
       "4     Chennai        Petrol    567\n",
       "5       Delhi  Petrol + CNG     11\n",
       "6       Delhi        Diesel    308\n",
       "7       Delhi        Petrol    355\n",
       "8   Hyderabad        Diesel     20\n",
       "9   Hyderabad        Petrol     98\n",
       "10     Mumbai  Petrol + CNG     22\n",
       "11     Mumbai        Diesel    323\n",
       "12     Mumbai        Petrol    781"
      ]
     },
     "execution_count": 46,
     "metadata": {},
     "output_type": "execute_result"
    }
   ],
   "source": [
    "fuel_location"
   ]
  },
  {
   "cell_type": "code",
   "execution_count": 47,
   "id": "1919465c",
   "metadata": {},
   "outputs": [
    {
     "data": {
      "image/png": "[encoded data removed]",
      "text/plain": [
       "<Figure size 1440x720 with 1 Axes>"
      ]
     },
     "metadata": {
      "needs_background": "light"
     },
     "output_type": "display_data"
    }
   ],
   "source": [
    "plt.figure(figsize=(20,10))\n",
    "sns.countplot(x = 'Location',hue='Fuel',data=df)\n",
    "plt.title(\"No. of Cars based on Fuel type in different Cities\",fontsize=28)\n",
    "plt.show()"
   ]
  },
  {
   "cell_type": "code",
   "execution_count": 48,
   "id": "eea19a68",
   "metadata": {},
   "outputs": [],
   "source": [
    "#No. of cars in different Cities based on Model Year\n",
    "model_year = df.groupby(by=['Location','Model Year'])['Gear'].count().reset_index().rename(columns={'Gear':'Count','Count':'Model Year'})\n",
    "model_year = model_year.sort_values(by=['Location','Count'],ascending=True).reset_index()\n",
    "model_year = model_year.drop('index',axis=1)"
   ]
  },
  {
   "cell_type": "code",
   "execution_count": 49,
   "id": "ebd491e2",
   "metadata": {},
   "outputs": [
    {
     "data": {
      "text/html": [
       "<div>\n",
       "<style scoped>\n",
       "    .dataframe tbody tr th:only-of-type {\n",
       "        vertical-align: middle;\n",
       "    }\n",
       "\n",
       "    .dataframe tbody tr th {\n",
       "        vertical-align: top;\n",
       "    }\n",
       "\n",
       "    .dataframe thead th {\n",
       "        text-align: right;\n",
       "    }\n",
       "</style>\n",
       "<table border=\"1\" class=\"dataframe\">\n",
       "  <thead>\n",
       "    <tr style=\"text-align: right;\">\n",
       "      <th></th>\n",
       "      <th>Location</th>\n",
       "      <th>Model Year</th>\n",
       "      <th>Count</th>\n",
       "    </tr>\n",
       "  </thead>\n",
       "  <tbody>\n",
       "    <tr>\n",
       "      <th>0</th>\n",
       "      <td>Bangalore</td>\n",
       "      <td>2021</td>\n",
       "      <td>1</td>\n",
       "    </tr>\n",
       "    <tr>\n",
       "      <th>1</th>\n",
       "      <td>Bangalore</td>\n",
       "      <td>2008</td>\n",
       "      <td>3</td>\n",
       "    </tr>\n",
       "    <tr>\n",
       "      <th>2</th>\n",
       "      <td>Bangalore</td>\n",
       "      <td>2009</td>\n",
       "      <td>3</td>\n",
       "    </tr>\n",
       "    <tr>\n",
       "      <th>3</th>\n",
       "      <td>Bangalore</td>\n",
       "      <td>2010</td>\n",
       "      <td>9</td>\n",
       "    </tr>\n",
       "    <tr>\n",
       "      <th>4</th>\n",
       "      <td>Bangalore</td>\n",
       "      <td>2011</td>\n",
       "      <td>14</td>\n",
       "    </tr>\n",
       "    <tr>\n",
       "      <th>...</th>\n",
       "      <td>...</td>\n",
       "      <td>...</td>\n",
       "      <td>...</td>\n",
       "    </tr>\n",
       "    <tr>\n",
       "      <th>60</th>\n",
       "      <td>Mumbai</td>\n",
       "      <td>2015</td>\n",
       "      <td>121</td>\n",
       "    </tr>\n",
       "    <tr>\n",
       "      <th>61</th>\n",
       "      <td>Mumbai</td>\n",
       "      <td>2019</td>\n",
       "      <td>142</td>\n",
       "    </tr>\n",
       "    <tr>\n",
       "      <th>62</th>\n",
       "      <td>Mumbai</td>\n",
       "      <td>2016</td>\n",
       "      <td>164</td>\n",
       "    </tr>\n",
       "    <tr>\n",
       "      <th>63</th>\n",
       "      <td>Mumbai</td>\n",
       "      <td>2018</td>\n",
       "      <td>217</td>\n",
       "    </tr>\n",
       "    <tr>\n",
       "      <th>64</th>\n",
       "      <td>Mumbai</td>\n",
       "      <td>2017</td>\n",
       "      <td>240</td>\n",
       "    </tr>\n",
       "  </tbody>\n",
       "</table>\n",
       "<p>65 rows × 3 columns</p>\n",
       "</div>"
      ],
      "text/plain": [
       "     Location  Model Year  Count\n",
       "0   Bangalore        2021      1\n",
       "1   Bangalore        2008      3\n",
       "2   Bangalore        2009      3\n",
       "3   Bangalore        2010      9\n",
       "4   Bangalore        2011     14\n",
       "..        ...         ...    ...\n",
       "60     Mumbai        2015    121\n",
       "61     Mumbai        2019    142\n",
       "62     Mumbai        2016    164\n",
       "63     Mumbai        2018    217\n",
       "64     Mumbai        2017    240\n",
       "\n",
       "[65 rows x 3 columns]"
      ]
     },
     "execution_count": 49,
     "metadata": {},
     "output_type": "execute_result"
    }
   ],
   "source": [
    "model_year"
   ]
  },
  {
   "cell_type": "code",
   "execution_count": 50,
   "id": "6c720980",
   "metadata": {},
   "outputs": [
    {
     "data": {
      "text/plain": [
       "(65, 3)"
      ]
     },
     "execution_count": 50,
     "metadata": {},
     "output_type": "execute_result"
    }
   ],
   "source": [
    "model_year.shape"
   ]
  },
  {
   "cell_type": "code",
   "execution_count": 51,
   "id": "f121b3bc",
   "metadata": {},
   "outputs": [
    {
     "data": {
      "image/png": "[encoded data removed]",
      "text/plain": [
       "<Figure size 1296x864 with 1 Axes>"
      ]
     },
     "metadata": {
      "needs_background": "light"
     },
     "output_type": "display_data"
    }
   ],
   "source": [
    "plt.figure(figsize=(18,12))\n",
    "sns.countplot(x = 'Model Year',hue='Location',data=df)\n",
    "plt.title(\"No. of cars in different Cities based on Model Year\",fontsize=28)\n",
    "plt.show()"
   ]
  },
  {
   "cell_type": "code",
   "execution_count": 52,
   "id": "b9cc1973",
   "metadata": {},
   "outputs": [],
   "source": [
    "#No. of Cars in different cities based on Gear\n",
    "gear_type = df.groupby(by=['Location','Gear'])['Ownership'].count().reset_index().rename(columns={'Ownership':'Count'})"
   ]
  },
  {
   "cell_type": "code",
   "execution_count": 53,
   "id": "3b2a3c34",
   "metadata": {},
   "outputs": [
    {
     "data": {
      "text/html": [
       "<div>\n",
       "<style scoped>\n",
       "    .dataframe tbody tr th:only-of-type {\n",
       "        vertical-align: middle;\n",
       "    }\n",
       "\n",
       "    .dataframe tbody tr th {\n",
       "        vertical-align: top;\n",
       "    }\n",
       "\n",
       "    .dataframe thead th {\n",
       "        text-align: right;\n",
       "    }\n",
       "</style>\n",
       "<table border=\"1\" class=\"dataframe\">\n",
       "  <thead>\n",
       "    <tr style=\"text-align: right;\">\n",
       "      <th></th>\n",
       "      <th>Location</th>\n",
       "      <th>Gear</th>\n",
       "      <th>Count</th>\n",
       "    </tr>\n",
       "  </thead>\n",
       "  <tbody>\n",
       "    <tr>\n",
       "      <th>0</th>\n",
       "      <td>Bangalore</td>\n",
       "      <td>['Automatic']</td>\n",
       "      <td>89</td>\n",
       "    </tr>\n",
       "    <tr>\n",
       "      <th>1</th>\n",
       "      <td>Bangalore</td>\n",
       "      <td>['Manual']</td>\n",
       "      <td>379</td>\n",
       "    </tr>\n",
       "    <tr>\n",
       "      <th>2</th>\n",
       "      <td>Bangalore</td>\n",
       "      <td>[]</td>\n",
       "      <td>10</td>\n",
       "    </tr>\n",
       "    <tr>\n",
       "      <th>3</th>\n",
       "      <td>Chennai</td>\n",
       "      <td>['Automatic']</td>\n",
       "      <td>103</td>\n",
       "    </tr>\n",
       "    <tr>\n",
       "      <th>4</th>\n",
       "      <td>Chennai</td>\n",
       "      <td>['Manual']</td>\n",
       "      <td>518</td>\n",
       "    </tr>\n",
       "    <tr>\n",
       "      <th>5</th>\n",
       "      <td>Chennai</td>\n",
       "      <td>[]</td>\n",
       "      <td>17</td>\n",
       "    </tr>\n",
       "    <tr>\n",
       "      <th>6</th>\n",
       "      <td>Delhi</td>\n",
       "      <td>['Automatic']</td>\n",
       "      <td>66</td>\n",
       "    </tr>\n",
       "    <tr>\n",
       "      <th>7</th>\n",
       "      <td>Delhi</td>\n",
       "      <td>['Manual']</td>\n",
       "      <td>597</td>\n",
       "    </tr>\n",
       "    <tr>\n",
       "      <th>8</th>\n",
       "      <td>Delhi</td>\n",
       "      <td>[]</td>\n",
       "      <td>11</td>\n",
       "    </tr>\n",
       "    <tr>\n",
       "      <th>9</th>\n",
       "      <td>Hyderabad</td>\n",
       "      <td>['Automatic']</td>\n",
       "      <td>19</td>\n",
       "    </tr>\n",
       "    <tr>\n",
       "      <th>10</th>\n",
       "      <td>Hyderabad</td>\n",
       "      <td>['Manual']</td>\n",
       "      <td>97</td>\n",
       "    </tr>\n",
       "    <tr>\n",
       "      <th>11</th>\n",
       "      <td>Hyderabad</td>\n",
       "      <td>[]</td>\n",
       "      <td>2</td>\n",
       "    </tr>\n",
       "    <tr>\n",
       "      <th>12</th>\n",
       "      <td>Mumbai</td>\n",
       "      <td>['Automatic']</td>\n",
       "      <td>287</td>\n",
       "    </tr>\n",
       "    <tr>\n",
       "      <th>13</th>\n",
       "      <td>Mumbai</td>\n",
       "      <td>['Manual']</td>\n",
       "      <td>826</td>\n",
       "    </tr>\n",
       "    <tr>\n",
       "      <th>14</th>\n",
       "      <td>Mumbai</td>\n",
       "      <td>[]</td>\n",
       "      <td>13</td>\n",
       "    </tr>\n",
       "  </tbody>\n",
       "</table>\n",
       "</div>"
      ],
      "text/plain": [
       "     Location           Gear  Count\n",
       "0   Bangalore  ['Automatic']     89\n",
       "1   Bangalore     ['Manual']    379\n",
       "2   Bangalore             []     10\n",
       "3     Chennai  ['Automatic']    103\n",
       "4     Chennai     ['Manual']    518\n",
       "5     Chennai             []     17\n",
       "6       Delhi  ['Automatic']     66\n",
       "7       Delhi     ['Manual']    597\n",
       "8       Delhi             []     11\n",
       "9   Hyderabad  ['Automatic']     19\n",
       "10  Hyderabad     ['Manual']     97\n",
       "11  Hyderabad             []      2\n",
       "12     Mumbai  ['Automatic']    287\n",
       "13     Mumbai     ['Manual']    826\n",
       "14     Mumbai             []     13"
      ]
     },
     "execution_count": 53,
     "metadata": {},
     "output_type": "execute_result"
    }
   ],
   "source": [
    "gear_type"
   ]
  },
  {
   "cell_type": "code",
   "execution_count": 54,
   "id": "1fc40c0c",
   "metadata": {},
   "outputs": [
    {
     "data": {
      "image/png": "[encoded data removed]",
      "text/plain": [
       "<Figure size 1080x864 with 1 Axes>"
      ]
     },
     "metadata": {
      "needs_background": "light"
     },
     "output_type": "display_data"
    }
   ],
   "source": [
    "plt.figure(figsize=(15,12))\n",
    "sns.pointplot(x='Location',y='Count',hue='Gear',data=gear_type)\n",
    "plt.title(\"Cars in different cities based on Gear\",fontsize=28)\n",
    "plt.show()"
   ]
  },
  {
   "cell_type": "code",
   "execution_count": 55,
   "id": "e6603722",
   "metadata": {},
   "outputs": [
    {
     "data": {
      "text/html": [
       "<div>\n",
       "<style scoped>\n",
       "    .dataframe tbody tr th:only-of-type {\n",
       "        vertical-align: middle;\n",
       "    }\n",
       "\n",
       "    .dataframe tbody tr th {\n",
       "        vertical-align: top;\n",
       "    }\n",
       "\n",
       "    .dataframe thead th {\n",
       "        text-align: right;\n",
       "    }\n",
       "</style>\n",
       "<table border=\"1\" class=\"dataframe\">\n",
       "  <thead>\n",
       "    <tr style=\"text-align: right;\">\n",
       "      <th></th>\n",
       "      <th>Location</th>\n",
       "      <th>Ownership</th>\n",
       "      <th>Count</th>\n",
       "    </tr>\n",
       "  </thead>\n",
       "  <tbody>\n",
       "    <tr>\n",
       "      <th>0</th>\n",
       "      <td>Bangalore</td>\n",
       "      <td>1</td>\n",
       "      <td>345</td>\n",
       "    </tr>\n",
       "    <tr>\n",
       "      <th>1</th>\n",
       "      <td>Bangalore</td>\n",
       "      <td>2</td>\n",
       "      <td>118</td>\n",
       "    </tr>\n",
       "    <tr>\n",
       "      <th>2</th>\n",
       "      <td>Bangalore</td>\n",
       "      <td>3</td>\n",
       "      <td>14</td>\n",
       "    </tr>\n",
       "    <tr>\n",
       "      <th>3</th>\n",
       "      <td>Bangalore</td>\n",
       "      <td>4</td>\n",
       "      <td>1</td>\n",
       "    </tr>\n",
       "    <tr>\n",
       "      <th>4</th>\n",
       "      <td>Chennai</td>\n",
       "      <td>1</td>\n",
       "      <td>500</td>\n",
       "    </tr>\n",
       "    <tr>\n",
       "      <th>5</th>\n",
       "      <td>Chennai</td>\n",
       "      <td>2</td>\n",
       "      <td>121</td>\n",
       "    </tr>\n",
       "    <tr>\n",
       "      <th>6</th>\n",
       "      <td>Chennai</td>\n",
       "      <td>3</td>\n",
       "      <td>16</td>\n",
       "    </tr>\n",
       "    <tr>\n",
       "      <th>7</th>\n",
       "      <td>Chennai</td>\n",
       "      <td>4</td>\n",
       "      <td>1</td>\n",
       "    </tr>\n",
       "    <tr>\n",
       "      <th>8</th>\n",
       "      <td>Delhi</td>\n",
       "      <td>1</td>\n",
       "      <td>558</td>\n",
       "    </tr>\n",
       "    <tr>\n",
       "      <th>9</th>\n",
       "      <td>Delhi</td>\n",
       "      <td>2</td>\n",
       "      <td>110</td>\n",
       "    </tr>\n",
       "    <tr>\n",
       "      <th>10</th>\n",
       "      <td>Delhi</td>\n",
       "      <td>3</td>\n",
       "      <td>6</td>\n",
       "    </tr>\n",
       "    <tr>\n",
       "      <th>11</th>\n",
       "      <td>Hyderabad</td>\n",
       "      <td>1</td>\n",
       "      <td>82</td>\n",
       "    </tr>\n",
       "    <tr>\n",
       "      <th>12</th>\n",
       "      <td>Hyderabad</td>\n",
       "      <td>2</td>\n",
       "      <td>33</td>\n",
       "    </tr>\n",
       "    <tr>\n",
       "      <th>13</th>\n",
       "      <td>Hyderabad</td>\n",
       "      <td>3</td>\n",
       "      <td>2</td>\n",
       "    </tr>\n",
       "    <tr>\n",
       "      <th>14</th>\n",
       "      <td>Hyderabad</td>\n",
       "      <td>5</td>\n",
       "      <td>1</td>\n",
       "    </tr>\n",
       "    <tr>\n",
       "      <th>15</th>\n",
       "      <td>Mumbai</td>\n",
       "      <td>1</td>\n",
       "      <td>937</td>\n",
       "    </tr>\n",
       "    <tr>\n",
       "      <th>16</th>\n",
       "      <td>Mumbai</td>\n",
       "      <td>2</td>\n",
       "      <td>168</td>\n",
       "    </tr>\n",
       "    <tr>\n",
       "      <th>17</th>\n",
       "      <td>Mumbai</td>\n",
       "      <td>3</td>\n",
       "      <td>19</td>\n",
       "    </tr>\n",
       "    <tr>\n",
       "      <th>18</th>\n",
       "      <td>Mumbai</td>\n",
       "      <td>4</td>\n",
       "      <td>2</td>\n",
       "    </tr>\n",
       "  </tbody>\n",
       "</table>\n",
       "</div>"
      ],
      "text/plain": [
       "     Location  Ownership  Count\n",
       "0   Bangalore          1    345\n",
       "1   Bangalore          2    118\n",
       "2   Bangalore          3     14\n",
       "3   Bangalore          4      1\n",
       "4     Chennai          1    500\n",
       "5     Chennai          2    121\n",
       "6     Chennai          3     16\n",
       "7     Chennai          4      1\n",
       "8       Delhi          1    558\n",
       "9       Delhi          2    110\n",
       "10      Delhi          3      6\n",
       "11  Hyderabad          1     82\n",
       "12  Hyderabad          2     33\n",
       "13  Hyderabad          3      2\n",
       "14  Hyderabad          5      1\n",
       "15     Mumbai          1    937\n",
       "16     Mumbai          2    168\n",
       "17     Mumbai          3     19\n",
       "18     Mumbai          4      2"
      ]
     },
     "execution_count": 55,
     "metadata": {},
     "output_type": "execute_result"
    }
   ],
   "source": [
    "#No. of Cars in different cities based on Ownership\n",
    "location_owner = df.groupby(by=['Location','Ownership'])['Gear'].count().reset_index().rename(columns={'Gear':'Count'})\n",
    "location_owner"
   ]
  },
  {
   "cell_type": "code",
   "execution_count": 56,
   "id": "86a2431a",
   "metadata": {},
   "outputs": [
    {
     "data": {
      "image/png": "[encoded data removed]",
      "text/plain": [
       "<Figure size 1080x720 with 1 Axes>"
      ]
     },
     "metadata": {
      "needs_background": "light"
     },
     "output_type": "display_data"
    }
   ],
   "source": [
    "plt.figure(figsize=(15,10))\n",
    "sns.barplot(x='Location',y='Count',data=location_owner,hue='Ownership')\n",
    "plt.title(\"No. of Cars in different cities based on Ownership\",fontsize=28)\n",
    "plt.show()"
   ]
  },
  {
   "cell_type": "code",
   "execution_count": 57,
   "id": "87c3fa66",
   "metadata": {},
   "outputs": [
    {
     "data": {
      "text/plain": [
       "array(['Maruti', 'Honda', 'Hyundai', 'Volkswagen', 'Datsun', 'Renault',\n",
       "       'Ford', 'Toyota', 'Skoda', 'Tata', 'Nissan', 'Audi', 'KIA', 'BMW',\n",
       "       'Mercedes', 'Mahindra', 'MG', 'Ssangyong', 'Jeep', 'Jaguar',\n",
       "       'Fiat'], dtype=object)"
      ]
     },
     "execution_count": 57,
     "metadata": {},
     "output_type": "execute_result"
    }
   ],
   "source": [
    "df['Car Brand'].unique()"
   ]
  },
  {
   "cell_type": "code",
   "execution_count": 58,
   "id": "f101fa9d",
   "metadata": {},
   "outputs": [
    {
     "data": {
      "text/plain": [
       "Maruti        1428\n",
       "Hyundai        711\n",
       "Ford           200\n",
       "Honda          194\n",
       "Renault        115\n",
       "Tata            91\n",
       "Toyota          80\n",
       "Volkswagen      75\n",
       "Mahindra        30\n",
       "MG              22\n",
       "Skoda           14\n",
       "BMW             13\n",
       "Datsun          13\n",
       "KIA             13\n",
       "Nissan          12\n",
       "Jeep            11\n",
       "Audi             7\n",
       "Mercedes         2\n",
       "Jaguar           1\n",
       "Fiat             1\n",
       "Ssangyong        1\n",
       "Name: Car Brand, dtype: int64"
      ]
     },
     "execution_count": 58,
     "metadata": {},
     "output_type": "execute_result"
    }
   ],
   "source": [
    "df['Car Brand'].value_counts()"
   ]
  },
  {
   "cell_type": "code",
   "execution_count": 59,
   "id": "d9a4f961",
   "metadata": {},
   "outputs": [
    {
     "data": {
      "text/html": [
       "<div>\n",
       "<style scoped>\n",
       "    .dataframe tbody tr th:only-of-type {\n",
       "        vertical-align: middle;\n",
       "    }\n",
       "\n",
       "    .dataframe tbody tr th {\n",
       "        vertical-align: top;\n",
       "    }\n",
       "\n",
       "    .dataframe thead th {\n",
       "        text-align: right;\n",
       "    }\n",
       "</style>\n",
       "<table border=\"1\" class=\"dataframe\">\n",
       "  <thead>\n",
       "    <tr style=\"text-align: right;\">\n",
       "      <th></th>\n",
       "      <th>Car Brand</th>\n",
       "      <th>Model</th>\n",
       "      <th>Price</th>\n",
       "      <th>Model Year</th>\n",
       "      <th>Location</th>\n",
       "      <th>Fuel</th>\n",
       "      <th>Driven (Kms)</th>\n",
       "      <th>Gear</th>\n",
       "      <th>Ownership</th>\n",
       "      <th>EMI (monthly)</th>\n",
       "    </tr>\n",
       "  </thead>\n",
       "  <tbody>\n",
       "    <tr>\n",
       "      <th>0</th>\n",
       "      <td>Maruti</td>\n",
       "      <td>['BalenoZETA 1.2 K12']</td>\n",
       "      <td>621899</td>\n",
       "      <td>2016</td>\n",
       "      <td>Hyderabad</td>\n",
       "      <td>Petrol</td>\n",
       "      <td>103354</td>\n",
       "      <td>['Manual']</td>\n",
       "      <td>1</td>\n",
       "      <td>13834</td>\n",
       "    </tr>\n",
       "    <tr>\n",
       "      <th>1</th>\n",
       "      <td>Honda</td>\n",
       "      <td>['Jazz1.2 V AT']</td>\n",
       "      <td>524199</td>\n",
       "      <td>2015</td>\n",
       "      <td>Hyderabad</td>\n",
       "      <td>Petrol</td>\n",
       "      <td>65571</td>\n",
       "      <td>['Automatic']</td>\n",
       "      <td>2</td>\n",
       "      <td>11661</td>\n",
       "    </tr>\n",
       "    <tr>\n",
       "      <th>2</th>\n",
       "      <td>Maruti</td>\n",
       "      <td>['SwiftZDI']</td>\n",
       "      <td>476699</td>\n",
       "      <td>2012</td>\n",
       "      <td>Hyderabad</td>\n",
       "      <td>Diesel</td>\n",
       "      <td>78819</td>\n",
       "      <td>['Manual']</td>\n",
       "      <td>2</td>\n",
       "      <td>10604</td>\n",
       "    </tr>\n",
       "    <tr>\n",
       "      <th>3</th>\n",
       "      <td>Maruti</td>\n",
       "      <td>['Alto 800LXI']</td>\n",
       "      <td>295499</td>\n",
       "      <td>2016</td>\n",
       "      <td>Hyderabad</td>\n",
       "      <td>Petrol</td>\n",
       "      <td>20215</td>\n",
       "      <td>['Manual']</td>\n",
       "      <td>2</td>\n",
       "      <td>6573</td>\n",
       "    </tr>\n",
       "    <tr>\n",
       "      <th>4</th>\n",
       "      <td>Hyundai</td>\n",
       "      <td>['i20SPORTZ 1.2 O']</td>\n",
       "      <td>378299</td>\n",
       "      <td>2010</td>\n",
       "      <td>Hyderabad</td>\n",
       "      <td>Petrol</td>\n",
       "      <td>79222</td>\n",
       "      <td>['Manual']</td>\n",
       "      <td>2</td>\n",
       "      <td>8415</td>\n",
       "    </tr>\n",
       "    <tr>\n",
       "      <th>...</th>\n",
       "      <td>...</td>\n",
       "      <td>...</td>\n",
       "      <td>...</td>\n",
       "      <td>...</td>\n",
       "      <td>...</td>\n",
       "      <td>...</td>\n",
       "      <td>...</td>\n",
       "      <td>...</td>\n",
       "      <td>...</td>\n",
       "      <td>...</td>\n",
       "    </tr>\n",
       "    <tr>\n",
       "      <th>3029</th>\n",
       "      <td>Maruti</td>\n",
       "      <td>['Alto 800LXI']</td>\n",
       "      <td>260499</td>\n",
       "      <td>2014</td>\n",
       "      <td>Chennai</td>\n",
       "      <td>Petrol</td>\n",
       "      <td>39845</td>\n",
       "      <td>['Manual']</td>\n",
       "      <td>3</td>\n",
       "      <td>5795</td>\n",
       "    </tr>\n",
       "    <tr>\n",
       "      <th>3030</th>\n",
       "      <td>Maruti</td>\n",
       "      <td>['CiazALPHA 1.3 DDIS SHVS']</td>\n",
       "      <td>691099</td>\n",
       "      <td>2017</td>\n",
       "      <td>Chennai</td>\n",
       "      <td>Diesel</td>\n",
       "      <td>93258</td>\n",
       "      <td>['Manual']</td>\n",
       "      <td>1</td>\n",
       "      <td>15373</td>\n",
       "    </tr>\n",
       "    <tr>\n",
       "      <th>3031</th>\n",
       "      <td>Skoda</td>\n",
       "      <td>['RapidStyle 1.5 TDI AT']</td>\n",
       "      <td>1077299</td>\n",
       "      <td>2018</td>\n",
       "      <td>Chennai</td>\n",
       "      <td>Diesel</td>\n",
       "      <td>64861</td>\n",
       "      <td>['Automatic']</td>\n",
       "      <td>1</td>\n",
       "      <td>23964</td>\n",
       "    </tr>\n",
       "    <tr>\n",
       "      <th>3032</th>\n",
       "      <td>Renault</td>\n",
       "      <td>['KwidRXT']</td>\n",
       "      <td>369799</td>\n",
       "      <td>2017</td>\n",
       "      <td>Chennai</td>\n",
       "      <td>Petrol</td>\n",
       "      <td>22293</td>\n",
       "      <td>['Manual']</td>\n",
       "      <td>1</td>\n",
       "      <td>8226</td>\n",
       "    </tr>\n",
       "    <tr>\n",
       "      <th>3033</th>\n",
       "      <td>Maruti</td>\n",
       "      <td>[]</td>\n",
       "      <td>357099</td>\n",
       "      <td>2017</td>\n",
       "      <td>Chennai</td>\n",
       "      <td>Petrol</td>\n",
       "      <td>18747</td>\n",
       "      <td>[]</td>\n",
       "      <td>3</td>\n",
       "      <td>7943</td>\n",
       "    </tr>\n",
       "  </tbody>\n",
       "</table>\n",
       "<p>3034 rows × 10 columns</p>\n",
       "</div>"
      ],
      "text/plain": [
       "     Car Brand                        Model    Price  Model Year   Location  \\\n",
       "0       Maruti       ['BalenoZETA 1.2 K12']   621899        2016  Hyderabad   \n",
       "1        Honda             ['Jazz1.2 V AT']   524199        2015  Hyderabad   \n",
       "2       Maruti                 ['SwiftZDI']   476699        2012  Hyderabad   \n",
       "3       Maruti              ['Alto 800LXI']   295499        2016  Hyderabad   \n",
       "4      Hyundai          ['i20SPORTZ 1.2 O']   378299        2010  Hyderabad   \n",
       "...        ...                          ...      ...         ...        ...   \n",
       "3029    Maruti              ['Alto 800LXI']   260499        2014    Chennai   \n",
       "3030    Maruti  ['CiazALPHA 1.3 DDIS SHVS']   691099        2017    Chennai   \n",
       "3031     Skoda    ['RapidStyle 1.5 TDI AT']  1077299        2018    Chennai   \n",
       "3032   Renault                  ['KwidRXT']   369799        2017    Chennai   \n",
       "3033    Maruti                           []   357099        2017    Chennai   \n",
       "\n",
       "        Fuel Driven (Kms)           Gear  Ownership EMI (monthly)  \n",
       "0     Petrol       103354     ['Manual']          1         13834  \n",
       "1     Petrol        65571  ['Automatic']          2         11661  \n",
       "2     Diesel        78819     ['Manual']          2         10604  \n",
       "3     Petrol        20215     ['Manual']          2          6573  \n",
       "4     Petrol        79222     ['Manual']          2          8415  \n",
       "...      ...          ...            ...        ...           ...  \n",
       "3029  Petrol        39845     ['Manual']          3          5795  \n",
       "3030  Diesel        93258     ['Manual']          1         15373  \n",
       "3031  Diesel        64861  ['Automatic']          1         23964  \n",
       "3032  Petrol        22293     ['Manual']          1          8226  \n",
       "3033  Petrol        18747             []          3          7943  \n",
       "\n",
       "[3034 rows x 10 columns]"
      ]
     },
     "execution_count": 59,
     "metadata": {},
     "output_type": "execute_result"
    }
   ],
   "source": [
    "df"
   ]
  },
  {
   "cell_type": "code",
   "execution_count": 60,
   "id": "2aa54b49",
   "metadata": {},
   "outputs": [],
   "source": [
    "#Comparision of car brand count in different Cities\n",
    "count_brand = df.groupby(by=['Location','Car Brand'])['Price'].count().reset_index().rename(columns={'Price':'Count'})"
   ]
  },
  {
   "cell_type": "code",
   "execution_count": 61,
   "id": "8568e5fb",
   "metadata": {},
   "outputs": [
    {
     "data": {
      "text/html": [
       "<div>\n",
       "<style scoped>\n",
       "    .dataframe tbody tr th:only-of-type {\n",
       "        vertical-align: middle;\n",
       "    }\n",
       "\n",
       "    .dataframe tbody tr th {\n",
       "        vertical-align: top;\n",
       "    }\n",
       "\n",
       "    .dataframe thead th {\n",
       "        text-align: right;\n",
       "    }\n",
       "</style>\n",
       "<table border=\"1\" class=\"dataframe\">\n",
       "  <thead>\n",
       "    <tr style=\"text-align: right;\">\n",
       "      <th></th>\n",
       "      <th>Location</th>\n",
       "      <th>Car Brand</th>\n",
       "      <th>Count</th>\n",
       "    </tr>\n",
       "  </thead>\n",
       "  <tbody>\n",
       "    <tr>\n",
       "      <th>0</th>\n",
       "      <td>Bangalore</td>\n",
       "      <td>Audi</td>\n",
       "      <td>1</td>\n",
       "    </tr>\n",
       "    <tr>\n",
       "      <th>1</th>\n",
       "      <td>Bangalore</td>\n",
       "      <td>Datsun</td>\n",
       "      <td>3</td>\n",
       "    </tr>\n",
       "    <tr>\n",
       "      <th>2</th>\n",
       "      <td>Bangalore</td>\n",
       "      <td>Ford</td>\n",
       "      <td>41</td>\n",
       "    </tr>\n",
       "    <tr>\n",
       "      <th>3</th>\n",
       "      <td>Bangalore</td>\n",
       "      <td>Honda</td>\n",
       "      <td>23</td>\n",
       "    </tr>\n",
       "    <tr>\n",
       "      <th>4</th>\n",
       "      <td>Bangalore</td>\n",
       "      <td>Hyundai</td>\n",
       "      <td>119</td>\n",
       "    </tr>\n",
       "    <tr>\n",
       "      <th>...</th>\n",
       "      <td>...</td>\n",
       "      <td>...</td>\n",
       "      <td>...</td>\n",
       "    </tr>\n",
       "    <tr>\n",
       "      <th>70</th>\n",
       "      <td>Mumbai</td>\n",
       "      <td>Renault</td>\n",
       "      <td>35</td>\n",
       "    </tr>\n",
       "    <tr>\n",
       "      <th>71</th>\n",
       "      <td>Mumbai</td>\n",
       "      <td>Skoda</td>\n",
       "      <td>7</td>\n",
       "    </tr>\n",
       "    <tr>\n",
       "      <th>72</th>\n",
       "      <td>Mumbai</td>\n",
       "      <td>Tata</td>\n",
       "      <td>37</td>\n",
       "    </tr>\n",
       "    <tr>\n",
       "      <th>73</th>\n",
       "      <td>Mumbai</td>\n",
       "      <td>Toyota</td>\n",
       "      <td>30</td>\n",
       "    </tr>\n",
       "    <tr>\n",
       "      <th>74</th>\n",
       "      <td>Mumbai</td>\n",
       "      <td>Volkswagen</td>\n",
       "      <td>33</td>\n",
       "    </tr>\n",
       "  </tbody>\n",
       "</table>\n",
       "<p>75 rows × 3 columns</p>\n",
       "</div>"
      ],
      "text/plain": [
       "     Location   Car Brand  Count\n",
       "0   Bangalore        Audi      1\n",
       "1   Bangalore      Datsun      3\n",
       "2   Bangalore        Ford     41\n",
       "3   Bangalore       Honda     23\n",
       "4   Bangalore     Hyundai    119\n",
       "..        ...         ...    ...\n",
       "70     Mumbai     Renault     35\n",
       "71     Mumbai       Skoda      7\n",
       "72     Mumbai        Tata     37\n",
       "73     Mumbai      Toyota     30\n",
       "74     Mumbai  Volkswagen     33\n",
       "\n",
       "[75 rows x 3 columns]"
      ]
     },
     "execution_count": 61,
     "metadata": {},
     "output_type": "execute_result"
    }
   ],
   "source": [
    "count_brand"
   ]
  },
  {
   "cell_type": "code",
   "execution_count": 62,
   "id": "a2410365",
   "metadata": {},
   "outputs": [
    {
     "data": {
      "image/png": "[encoded data removed]",
      "text/plain": [
       "<Figure size 1152x864 with 1 Axes>"
      ]
     },
     "metadata": {
      "needs_background": "light"
     },
     "output_type": "display_data"
    }
   ],
   "source": [
    "plt.figure(figsize=(16,12))\n",
    "sns.scatterplot(x='Car Brand',y='Count',data=count_brand,hue='Location')\n",
    "plt.show()"
   ]
  },
  {
   "cell_type": "code",
   "execution_count": 63,
   "id": "7c80b914",
   "metadata": {},
   "outputs": [
    {
     "data": {
      "text/html": [
       "<div>\n",
       "<style scoped>\n",
       "    .dataframe tbody tr th:only-of-type {\n",
       "        vertical-align: middle;\n",
       "    }\n",
       "\n",
       "    .dataframe tbody tr th {\n",
       "        vertical-align: top;\n",
       "    }\n",
       "\n",
       "    .dataframe thead th {\n",
       "        text-align: right;\n",
       "    }\n",
       "</style>\n",
       "<table border=\"1\" class=\"dataframe\">\n",
       "  <thead>\n",
       "    <tr style=\"text-align: right;\">\n",
       "      <th></th>\n",
       "      <th>Car Brand</th>\n",
       "      <th>Model</th>\n",
       "      <th>Price</th>\n",
       "      <th>Model Year</th>\n",
       "      <th>Location</th>\n",
       "      <th>Fuel</th>\n",
       "      <th>Driven (Kms)</th>\n",
       "      <th>Gear</th>\n",
       "      <th>Ownership</th>\n",
       "      <th>EMI (monthly)</th>\n",
       "    </tr>\n",
       "  </thead>\n",
       "  <tbody>\n",
       "    <tr>\n",
       "      <th>0</th>\n",
       "      <td>Maruti</td>\n",
       "      <td>['BalenoZETA 1.2 K12']</td>\n",
       "      <td>621899</td>\n",
       "      <td>2016</td>\n",
       "      <td>Hyderabad</td>\n",
       "      <td>Petrol</td>\n",
       "      <td>103354</td>\n",
       "      <td>['Manual']</td>\n",
       "      <td>1</td>\n",
       "      <td>13834</td>\n",
       "    </tr>\n",
       "    <tr>\n",
       "      <th>1</th>\n",
       "      <td>Honda</td>\n",
       "      <td>['Jazz1.2 V AT']</td>\n",
       "      <td>524199</td>\n",
       "      <td>2015</td>\n",
       "      <td>Hyderabad</td>\n",
       "      <td>Petrol</td>\n",
       "      <td>65571</td>\n",
       "      <td>['Automatic']</td>\n",
       "      <td>2</td>\n",
       "      <td>11661</td>\n",
       "    </tr>\n",
       "    <tr>\n",
       "      <th>2</th>\n",
       "      <td>Maruti</td>\n",
       "      <td>['SwiftZDI']</td>\n",
       "      <td>476699</td>\n",
       "      <td>2012</td>\n",
       "      <td>Hyderabad</td>\n",
       "      <td>Diesel</td>\n",
       "      <td>78819</td>\n",
       "      <td>['Manual']</td>\n",
       "      <td>2</td>\n",
       "      <td>10604</td>\n",
       "    </tr>\n",
       "    <tr>\n",
       "      <th>3</th>\n",
       "      <td>Maruti</td>\n",
       "      <td>['Alto 800LXI']</td>\n",
       "      <td>295499</td>\n",
       "      <td>2016</td>\n",
       "      <td>Hyderabad</td>\n",
       "      <td>Petrol</td>\n",
       "      <td>20215</td>\n",
       "      <td>['Manual']</td>\n",
       "      <td>2</td>\n",
       "      <td>6573</td>\n",
       "    </tr>\n",
       "    <tr>\n",
       "      <th>4</th>\n",
       "      <td>Hyundai</td>\n",
       "      <td>['i20SPORTZ 1.2 O']</td>\n",
       "      <td>378299</td>\n",
       "      <td>2010</td>\n",
       "      <td>Hyderabad</td>\n",
       "      <td>Petrol</td>\n",
       "      <td>79222</td>\n",
       "      <td>['Manual']</td>\n",
       "      <td>2</td>\n",
       "      <td>8415</td>\n",
       "    </tr>\n",
       "  </tbody>\n",
       "</table>\n",
       "</div>"
      ],
      "text/plain": [
       "  Car Brand                   Model   Price  Model Year   Location    Fuel  \\\n",
       "0    Maruti  ['BalenoZETA 1.2 K12']  621899        2016  Hyderabad  Petrol   \n",
       "1     Honda        ['Jazz1.2 V AT']  524199        2015  Hyderabad  Petrol   \n",
       "2    Maruti            ['SwiftZDI']  476699        2012  Hyderabad  Diesel   \n",
       "3    Maruti         ['Alto 800LXI']  295499        2016  Hyderabad  Petrol   \n",
       "4   Hyundai     ['i20SPORTZ 1.2 O']  378299        2010  Hyderabad  Petrol   \n",
       "\n",
       "  Driven (Kms)           Gear  Ownership EMI (monthly)  \n",
       "0       103354     ['Manual']          1         13834  \n",
       "1        65571  ['Automatic']          2         11661  \n",
       "2        78819     ['Manual']          2         10604  \n",
       "3        20215     ['Manual']          2          6573  \n",
       "4        79222     ['Manual']          2          8415  "
      ]
     },
     "execution_count": 63,
     "metadata": {},
     "output_type": "execute_result"
    }
   ],
   "source": [
    "df.head()"
   ]
  },
  {
   "cell_type": "markdown",
   "id": "c99ad138",
   "metadata": {},
   "source": [
    "# Label Encoding:"
   ]
  },
  {
   "cell_type": "code",
   "execution_count": 64,
   "id": "68a037f2",
   "metadata": {},
   "outputs": [],
   "source": [
    "from sklearn.preprocessing import LabelEncoder"
   ]
  },
  {
   "cell_type": "code",
   "execution_count": 65,
   "id": "cc271be9",
   "metadata": {},
   "outputs": [],
   "source": [
    "le = LabelEncoder()"
   ]
  },
  {
   "cell_type": "code",
   "execution_count": 66,
   "id": "3c46d9ba",
   "metadata": {},
   "outputs": [],
   "source": [
    "df['Car Brand'] = le.fit_transform(df['Car Brand'])"
   ]
  },
  {
   "cell_type": "code",
   "execution_count": 67,
   "id": "b0276171",
   "metadata": {},
   "outputs": [],
   "source": [
    "df['Model'] = le.fit_transform(df['Model'])"
   ]
  },
  {
   "cell_type": "code",
   "execution_count": 68,
   "id": "d396fcb8",
   "metadata": {},
   "outputs": [],
   "source": [
    "df['Location'] = le.fit_transform(df['Location'])"
   ]
  },
  {
   "cell_type": "code",
   "execution_count": 69,
   "id": "88ced0d8",
   "metadata": {},
   "outputs": [],
   "source": [
    "df['Fuel'] = le.fit_transform(df['Fuel'])"
   ]
  },
  {
   "cell_type": "code",
   "execution_count": 70,
   "id": "e004169d",
   "metadata": {},
   "outputs": [],
   "source": [
    "df['Gear'] = le.fit_transform(df['Gear'])"
   ]
  },
  {
   "cell_type": "code",
   "execution_count": 71,
   "id": "e7b2f021",
   "metadata": {},
   "outputs": [
    {
     "data": {
      "text/html": [
       "<div>\n",
       "<style scoped>\n",
       "    .dataframe tbody tr th:only-of-type {\n",
       "        vertical-align: middle;\n",
       "    }\n",
       "\n",
       "    .dataframe tbody tr th {\n",
       "        vertical-align: top;\n",
       "    }\n",
       "\n",
       "    .dataframe thead th {\n",
       "        text-align: right;\n",
       "    }\n",
       "</style>\n",
       "<table border=\"1\" class=\"dataframe\">\n",
       "  <thead>\n",
       "    <tr style=\"text-align: right;\">\n",
       "      <th></th>\n",
       "      <th>Car Brand</th>\n",
       "      <th>Model</th>\n",
       "      <th>Price</th>\n",
       "      <th>Model Year</th>\n",
       "      <th>Location</th>\n",
       "      <th>Fuel</th>\n",
       "      <th>Driven (Kms)</th>\n",
       "      <th>Gear</th>\n",
       "      <th>Ownership</th>\n",
       "      <th>EMI (monthly)</th>\n",
       "    </tr>\n",
       "  </thead>\n",
       "  <tbody>\n",
       "    <tr>\n",
       "      <th>3029</th>\n",
       "      <td>12</td>\n",
       "      <td>15</td>\n",
       "      <td>260499</td>\n",
       "      <td>2014</td>\n",
       "      <td>1</td>\n",
       "      <td>1</td>\n",
       "      <td>39845</td>\n",
       "      <td>1</td>\n",
       "      <td>3</td>\n",
       "      <td>5795</td>\n",
       "    </tr>\n",
       "    <tr>\n",
       "      <th>3030</th>\n",
       "      <td>12</td>\n",
       "      <td>87</td>\n",
       "      <td>691099</td>\n",
       "      <td>2017</td>\n",
       "      <td>1</td>\n",
       "      <td>0</td>\n",
       "      <td>93258</td>\n",
       "      <td>1</td>\n",
       "      <td>1</td>\n",
       "      <td>15373</td>\n",
       "    </tr>\n",
       "    <tr>\n",
       "      <th>3031</th>\n",
       "      <td>16</td>\n",
       "      <td>405</td>\n",
       "      <td>1077299</td>\n",
       "      <td>2018</td>\n",
       "      <td>1</td>\n",
       "      <td>0</td>\n",
       "      <td>64861</td>\n",
       "      <td>0</td>\n",
       "      <td>1</td>\n",
       "      <td>23964</td>\n",
       "    </tr>\n",
       "    <tr>\n",
       "      <th>3032</th>\n",
       "      <td>15</td>\n",
       "      <td>349</td>\n",
       "      <td>369799</td>\n",
       "      <td>2017</td>\n",
       "      <td>1</td>\n",
       "      <td>1</td>\n",
       "      <td>22293</td>\n",
       "      <td>1</td>\n",
       "      <td>1</td>\n",
       "      <td>8226</td>\n",
       "    </tr>\n",
       "    <tr>\n",
       "      <th>3033</th>\n",
       "      <td>12</td>\n",
       "      <td>611</td>\n",
       "      <td>357099</td>\n",
       "      <td>2017</td>\n",
       "      <td>1</td>\n",
       "      <td>1</td>\n",
       "      <td>18747</td>\n",
       "      <td>2</td>\n",
       "      <td>3</td>\n",
       "      <td>7943</td>\n",
       "    </tr>\n",
       "  </tbody>\n",
       "</table>\n",
       "</div>"
      ],
      "text/plain": [
       "      Car Brand  Model    Price  Model Year  Location  Fuel Driven (Kms)  \\\n",
       "3029         12     15   260499        2014         1     1        39845   \n",
       "3030         12     87   691099        2017         1     0        93258   \n",
       "3031         16    405  1077299        2018         1     0        64861   \n",
       "3032         15    349   369799        2017         1     1        22293   \n",
       "3033         12    611   357099        2017         1     1        18747   \n",
       "\n",
       "      Gear  Ownership EMI (monthly)  \n",
       "3029     1          3          5795  \n",
       "3030     1          1         15373  \n",
       "3031     0          1         23964  \n",
       "3032     1          1          8226  \n",
       "3033     2          3          7943  "
      ]
     },
     "execution_count": 71,
     "metadata": {},
     "output_type": "execute_result"
    }
   ],
   "source": [
    "df.tail()"
   ]
  },
  {
   "cell_type": "code",
   "execution_count": 72,
   "id": "ec9e1718",
   "metadata": {},
   "outputs": [
    {
     "data": {
      "text/html": [
       "<div>\n",
       "<style scoped>\n",
       "    .dataframe tbody tr th:only-of-type {\n",
       "        vertical-align: middle;\n",
       "    }\n",
       "\n",
       "    .dataframe tbody tr th {\n",
       "        vertical-align: top;\n",
       "    }\n",
       "\n",
       "    .dataframe thead th {\n",
       "        text-align: right;\n",
       "    }\n",
       "</style>\n",
       "<table border=\"1\" class=\"dataframe\">\n",
       "  <thead>\n",
       "    <tr style=\"text-align: right;\">\n",
       "      <th></th>\n",
       "      <th>Car Brand</th>\n",
       "      <th>Model</th>\n",
       "      <th>Model Year</th>\n",
       "      <th>Location</th>\n",
       "      <th>Fuel</th>\n",
       "      <th>Gear</th>\n",
       "      <th>Ownership</th>\n",
       "    </tr>\n",
       "  </thead>\n",
       "  <tbody>\n",
       "    <tr>\n",
       "      <th>Car Brand</th>\n",
       "      <td>1.000000</td>\n",
       "      <td>0.078219</td>\n",
       "      <td>0.046702</td>\n",
       "      <td>-0.017533</td>\n",
       "      <td>-0.041568</td>\n",
       "      <td>-0.010808</td>\n",
       "      <td>-0.041476</td>\n",
       "    </tr>\n",
       "    <tr>\n",
       "      <th>Model</th>\n",
       "      <td>0.078219</td>\n",
       "      <td>1.000000</td>\n",
       "      <td>-0.110138</td>\n",
       "      <td>-0.002373</td>\n",
       "      <td>-0.134076</td>\n",
       "      <td>0.112784</td>\n",
       "      <td>0.007327</td>\n",
       "    </tr>\n",
       "    <tr>\n",
       "      <th>Model Year</th>\n",
       "      <td>0.046702</td>\n",
       "      <td>-0.110138</td>\n",
       "      <td>1.000000</td>\n",
       "      <td>0.073831</td>\n",
       "      <td>0.108095</td>\n",
       "      <td>-0.132639</td>\n",
       "      <td>-0.181731</td>\n",
       "    </tr>\n",
       "    <tr>\n",
       "      <th>Location</th>\n",
       "      <td>-0.017533</td>\n",
       "      <td>-0.002373</td>\n",
       "      <td>0.073831</td>\n",
       "      <td>1.000000</td>\n",
       "      <td>-0.120397</td>\n",
       "      <td>-0.098900</td>\n",
       "      <td>-0.074950</td>\n",
       "    </tr>\n",
       "    <tr>\n",
       "      <th>Fuel</th>\n",
       "      <td>-0.041568</td>\n",
       "      <td>-0.134076</td>\n",
       "      <td>0.108095</td>\n",
       "      <td>-0.120397</td>\n",
       "      <td>1.000000</td>\n",
       "      <td>-0.043363</td>\n",
       "      <td>0.026760</td>\n",
       "    </tr>\n",
       "    <tr>\n",
       "      <th>Gear</th>\n",
       "      <td>-0.010808</td>\n",
       "      <td>0.112784</td>\n",
       "      <td>-0.132639</td>\n",
       "      <td>-0.098900</td>\n",
       "      <td>-0.043363</td>\n",
       "      <td>1.000000</td>\n",
       "      <td>-0.032463</td>\n",
       "    </tr>\n",
       "    <tr>\n",
       "      <th>Ownership</th>\n",
       "      <td>-0.041476</td>\n",
       "      <td>0.007327</td>\n",
       "      <td>-0.181731</td>\n",
       "      <td>-0.074950</td>\n",
       "      <td>0.026760</td>\n",
       "      <td>-0.032463</td>\n",
       "      <td>1.000000</td>\n",
       "    </tr>\n",
       "  </tbody>\n",
       "</table>\n",
       "</div>"
      ],
      "text/plain": [
       "            Car Brand     Model  Model Year  Location      Fuel      Gear  \\\n",
       "Car Brand    1.000000  0.078219    0.046702 -0.017533 -0.041568 -0.010808   \n",
       "Model        0.078219  1.000000   -0.110138 -0.002373 -0.134076  0.112784   \n",
       "Model Year   0.046702 -0.110138    1.000000  0.073831  0.108095 -0.132639   \n",
       "Location    -0.017533 -0.002373    0.073831  1.000000 -0.120397 -0.098900   \n",
       "Fuel        -0.041568 -0.134076    0.108095 -0.120397  1.000000 -0.043363   \n",
       "Gear        -0.010808  0.112784   -0.132639 -0.098900 -0.043363  1.000000   \n",
       "Ownership   -0.041476  0.007327   -0.181731 -0.074950  0.026760 -0.032463   \n",
       "\n",
       "            Ownership  \n",
       "Car Brand   -0.041476  \n",
       "Model        0.007327  \n",
       "Model Year  -0.181731  \n",
       "Location    -0.074950  \n",
       "Fuel         0.026760  \n",
       "Gear        -0.032463  \n",
       "Ownership    1.000000  "
      ]
     },
     "execution_count": 72,
     "metadata": {},
     "output_type": "execute_result"
    }
   ],
   "source": [
    "#correlation\n",
    "df.corr()"
   ]
  },
  {
   "cell_type": "code",
   "execution_count": 73,
   "id": "60cccede",
   "metadata": {},
   "outputs": [
    {
     "data": {
      "image/png": "[encoded data removed]",
      "text/plain": [
       "<Figure size 1152x576 with 2 Axes>"
      ]
     },
     "metadata": {
      "needs_background": "light"
     },
     "output_type": "display_data"
    }
   ],
   "source": [
    "plt.figure(figsize=(16,8))\n",
    "sns.heatmap(df.corr(),linewidths=0.1,fmt='0.1f',annot=True)\n",
    "plt.show()"
   ]
  },
  {
   "cell_type": "code",
   "execution_count": 74,
   "id": "7fa72b9b",
   "metadata": {},
   "outputs": [],
   "source": [
    "##Checking For Outliers:\n",
    "X = df.drop(columns=['Price'])\n",
    "y = df['Price']"
   ]
  },
  {
   "cell_type": "code",
   "execution_count": 75,
   "id": "bc5641f6",
   "metadata": {},
   "outputs": [
    {
     "data": {
      "image/png": "[encoded data removed]",
      "text/plain": [
       "<Figure size 576x432 with 1 Axes>"
      ]
     },
     "metadata": {
      "needs_background": "light"
     },
     "output_type": "display_data"
    }
   ],
   "source": [
    "plt.figure(figsize=(8,6))\n",
    "sns.boxplot(df['Car Brand'])\n",
    "plt.show()"
   ]
  },
  {
   "cell_type": "code",
   "execution_count": 76,
   "id": "c8ed5bee",
   "metadata": {},
   "outputs": [
    {
     "data": {
      "image/png": "[encoded data removed]",
      "text/plain": [
       "<Figure size 576x432 with 1 Axes>"
      ]
     },
     "metadata": {
      "needs_background": "light"
     },
     "output_type": "display_data"
    }
   ],
   "source": [
    "plt.figure(figsize=(8,6))\n",
    "sns.boxplot(df['Model'])\n",
    "plt.show()"
   ]
  },
  {
   "cell_type": "code",
   "execution_count": 77,
   "id": "6dded565",
   "metadata": {},
   "outputs": [
    {
     "data": {
      "image/png": "[encoded data removed]",
      "text/plain": [
       "<Figure size 576x432 with 1 Axes>"
      ]
     },
     "metadata": {
      "needs_background": "light"
     },
     "output_type": "display_data"
    }
   ],
   "source": [
    "plt.figure(figsize=(8,6))\n",
    "sns.boxplot(df['Model Year'])\n",
    "plt.show()"
   ]
  },
  {
   "cell_type": "code",
   "execution_count": 78,
   "id": "3fe6f6af",
   "metadata": {},
   "outputs": [
    {
     "data": {
      "image/png": "[encoded data removed]",
      "text/plain": [
       "<Figure size 576x432 with 1 Axes>"
      ]
     },
     "metadata": {
      "needs_background": "light"
     },
     "output_type": "display_data"
    }
   ],
   "source": [
    "plt.figure(figsize=(8,6))\n",
    "sns.boxplot(df['Location'])\n",
    "plt.show()"
   ]
  },
  {
   "cell_type": "code",
   "execution_count": 79,
   "id": "ece45d63",
   "metadata": {},
   "outputs": [
    {
     "data": {
      "image/png": "[encoded data removed]",
      "text/plain": [
       "<Figure size 576x432 with 1 Axes>"
      ]
     },
     "metadata": {
      "needs_background": "light"
     },
     "output_type": "display_data"
    }
   ],
   "source": [
    "plt.figure(figsize=(8,6))\n",
    "sns.boxplot(df['Fuel'])\n",
    "plt.show()"
   ]
  },
  {
   "cell_type": "code",
   "execution_count": 80,
   "id": "4cab920b",
   "metadata": {},
   "outputs": [
    {
     "data": {
      "image/png": "[encoded data removed]",
      "text/plain": [
       "<Figure size 576x432 with 1 Axes>"
      ]
     },
     "metadata": {
      "needs_background": "light"
     },
     "output_type": "display_data"
    }
   ],
   "source": [
    "plt.figure(figsize=(8,6))\n",
    "sns.boxplot(df['Gear'])\n",
    "plt.show()"
   ]
  },
  {
   "cell_type": "code",
   "execution_count": 81,
   "id": "f3838103",
   "metadata": {},
   "outputs": [
    {
     "data": {
      "image/png": "[encoded data removed]",
      "text/plain": [
       "<Figure size 576x432 with 1 Axes>"
      ]
     },
     "metadata": {
      "needs_background": "light"
     },
     "output_type": "display_data"
    }
   ],
   "source": [
    "plt.figure(figsize=(8,6))\n",
    "sns.boxplot(df['Ownership'])\n",
    "plt.show()"
   ]
  },
  {
   "cell_type": "markdown",
   "id": "562725b2",
   "metadata": {},
   "source": [
    "# Removing Outliers:"
   ]
  },
  {
   "cell_type": "code",
   "execution_count": 82,
   "id": "43e1bf41",
   "metadata": {},
   "outputs": [],
   "source": [
    "from scipy.stats import zscore\n",
    "z = zscore"
   ]
  },
  {
   "cell_type": "code",
   "execution_count": 83,
   "id": "67c7b9d1",
   "metadata": {},
   "outputs": [],
   "source": [
    "df1 = X[['Ownership','Gear','Model Year','Fuel']].copy()"
   ]
  },
  {
   "cell_type": "code",
   "execution_count": 84,
   "id": "31675c3b",
   "metadata": {},
   "outputs": [],
   "source": [
    "Z = z(df1)"
   ]
  },
  {
   "cell_type": "code",
   "execution_count": 85,
   "id": "62a14e06",
   "metadata": {},
   "outputs": [],
   "source": [
    "z_abs_score = np.abs(Z)"
   ]
  },
  {
   "cell_type": "code",
   "execution_count": 86,
   "id": "a3c6a066",
   "metadata": {},
   "outputs": [],
   "source": [
    "df2 = df1[(z_abs_score < 3).all(axis=1)]   #thresold 3"
   ]
  },
  {
   "cell_type": "code",
   "execution_count": 87,
   "id": "36456313",
   "metadata": {},
   "outputs": [
    {
     "data": {
      "text/plain": [
       "(2959, 4)"
      ]
     },
     "execution_count": 87,
     "metadata": {},
     "output_type": "execute_result"
    }
   ],
   "source": [
    "df2.shape"
   ]
  },
  {
   "cell_type": "code",
   "execution_count": 88,
   "id": "cfaab947",
   "metadata": {},
   "outputs": [
    {
     "data": {
      "text/plain": [
       "(3034, 4)"
      ]
     },
     "execution_count": 88,
     "metadata": {},
     "output_type": "execute_result"
    }
   ],
   "source": [
    "df1.shape"
   ]
  },
  {
   "cell_type": "code",
   "execution_count": 89,
   "id": "1b7b3d4d",
   "metadata": {},
   "outputs": [],
   "source": [
    "dropindx = X.index.difference(df2.index)"
   ]
  },
  {
   "cell_type": "code",
   "execution_count": 90,
   "id": "e64aba23",
   "metadata": {},
   "outputs": [],
   "source": [
    "df.drop(dropindx,inplace = True) #dropping the outlier Dataframe"
   ]
  },
  {
   "cell_type": "code",
   "execution_count": 91,
   "id": "0b6912c6",
   "metadata": {},
   "outputs": [
    {
     "data": {
      "text/plain": [
       "(2959, 10)"
      ]
     },
     "execution_count": 91,
     "metadata": {},
     "output_type": "execute_result"
    }
   ],
   "source": [
    "df.shape"
   ]
  },
  {
   "cell_type": "markdown",
   "id": "bde2e152",
   "metadata": {},
   "source": [
    "# Skewness:"
   ]
  },
  {
   "cell_type": "code",
   "execution_count": 92,
   "id": "455addc1",
   "metadata": {},
   "outputs": [
    {
     "data": {
      "text/plain": [
       "Car Brand        0.202041\n",
       "Model            0.035684\n",
       "Price            2.202381\n",
       "Model Year      -0.477701\n",
       "Location        -0.076168\n",
       "Fuel            -0.828273\n",
       "Driven (Kms)     1.612460\n",
       "Gear            -1.039605\n",
       "Ownership        1.627382\n",
       "EMI (monthly)    2.202381\n",
       "dtype: float64"
      ]
     },
     "execution_count": 92,
     "metadata": {},
     "output_type": "execute_result"
    }
   ],
   "source": [
    "df.skew()"
   ]
  },
  {
   "cell_type": "code",
   "execution_count": 93,
   "id": "3c5008eb",
   "metadata": {},
   "outputs": [
    {
     "data": {
      "text/plain": [
       "Car Brand        0.206121\n",
       "Model            0.034507\n",
       "Model Year      -0.577649\n",
       "Location        -0.069799\n",
       "Fuel            -0.786651\n",
       "Driven (Kms)     1.592497\n",
       "Gear            -1.028127\n",
       "Ownership        2.150350\n",
       "EMI (monthly)    2.198946\n",
       "dtype: float64"
      ]
     },
     "execution_count": 93,
     "metadata": {},
     "output_type": "execute_result"
    }
   ],
   "source": [
    "X.skew()"
   ]
  },
  {
   "cell_type": "markdown",
   "id": "c1878ac1",
   "metadata": {},
   "source": [
    "## Plotting Skewness:"
   ]
  },
  {
   "cell_type": "code",
   "execution_count": 95,
   "id": "11a6b7e9",
   "metadata": {},
   "outputs": [
    {
     "data": {
      "image/png": "[encoded data removed]",
      "text/plain": [
       "<Figure size 864x576 with 1 Axes>"
      ]
     },
     "metadata": {
      "needs_background": "light"
     },
     "output_type": "display_data"
    }
   ],
   "source": [
    "plt.figure(figsize=(12,8))\n",
    "sns.distplot(df['Car Brand'])\n",
    "plt.show()"
   ]
  },
  {
   "cell_type": "code",
   "execution_count": 96,
   "id": "c06768c6",
   "metadata": {},
   "outputs": [
    {
     "data": {
      "image/png": "[encoded data removed]",
      "text/plain": [
       "<Figure size 864x576 with 1 Axes>"
      ]
     },
     "metadata": {
      "needs_background": "light"
     },
     "output_type": "display_data"
    }
   ],
   "source": [
    "plt.figure(figsize=(12,8))\n",
    "sns.distplot(df['Model'])\n",
    "plt.show()"
   ]
  },
  {
   "cell_type": "code",
   "execution_count": 97,
   "id": "8f9b11ee",
   "metadata": {},
   "outputs": [
    {
     "data": {
      "image/png": "[encoded data removed]",
      "text/plain": [
       "<Figure size 864x576 with 1 Axes>"
      ]
     },
     "metadata": {
      "needs_background": "light"
     },
     "output_type": "display_data"
    }
   ],
   "source": [
    "plt.figure(figsize=(12,8))\n",
    "sns.distplot(df['Model Year'])\n",
    "plt.show()"
   ]
  },
  {
   "cell_type": "code",
   "execution_count": 99,
   "id": "ecba4954",
   "metadata": {},
   "outputs": [
    {
     "data": {
      "image/png": "[encoded data removed]",
      "text/plain": [
       "<Figure size 864x576 with 1 Axes>"
      ]
     },
     "metadata": {
      "needs_background": "light"
     },
     "output_type": "display_data"
    }
   ],
   "source": [
    "plt.figure(figsize=(12,8))\n",
    "sns.distplot(df['Location'])\n",
    "plt.show()"
   ]
  },
  {
   "cell_type": "code",
   "execution_count": 100,
   "id": "30c61b58",
   "metadata": {},
   "outputs": [
    {
     "data": {
      "image/png": "[encoded data removed]",
      "text/plain": [
       "<Figure size 864x576 with 1 Axes>"
      ]
     },
     "metadata": {
      "needs_background": "light"
     },
     "output_type": "display_data"
    }
   ],
   "source": [
    "plt.figure(figsize=(12,8))\n",
    "sns.distplot(df['Fuel'])\n",
    "plt.show()"
   ]
  },
  {
   "cell_type": "code",
   "execution_count": 101,
   "id": "3807a2dc",
   "metadata": {},
   "outputs": [
    {
     "data": {
      "image/png": "[encoded data removed]",
      "text/plain": [
       "<Figure size 864x576 with 1 Axes>"
      ]
     },
     "metadata": {
      "needs_background": "light"
     },
     "output_type": "display_data"
    }
   ],
   "source": [
    "plt.figure(figsize=(12,8))\n",
    "sns.distplot(df['Driven (Kms)'])\n",
    "plt.show()"
   ]
  },
  {
   "cell_type": "code",
   "execution_count": 103,
   "id": "6c165216",
   "metadata": {},
   "outputs": [
    {
     "data": {
      "image/png": "[encoded data removed]",
      "text/plain": [
       "<Figure size 864x576 with 1 Axes>"
      ]
     },
     "metadata": {
      "needs_background": "light"
     },
     "output_type": "display_data"
    }
   ],
   "source": [
    "plt.figure(figsize=(12,8))\n",
    "sns.distplot(df['Gear'])\n",
    "plt.show()"
   ]
  },
  {
   "cell_type": "code",
   "execution_count": 104,
   "id": "ef168e3f",
   "metadata": {},
   "outputs": [
    {
     "data": {
      "image/png": "[encoded data removed]",
      "text/plain": [
       "<Figure size 864x576 with 1 Axes>"
      ]
     },
     "metadata": {
      "needs_background": "light"
     },
     "output_type": "display_data"
    }
   ],
   "source": [
    "plt.figure(figsize=(12,8))\n",
    "sns.distplot(df['Ownership'])\n",
    "plt.show()"
   ]
  },
  {
   "cell_type": "code",
   "execution_count": 106,
   "id": "a8421218",
   "metadata": {},
   "outputs": [
    {
     "data": {
      "image/png": "[encoded data removed]",
      "text/plain": [
       "<Figure size 864x576 with 1 Axes>"
      ]
     },
     "metadata": {
      "needs_background": "light"
     },
     "output_type": "display_data"
    }
   ],
   "source": [
    "plt.figure(figsize=(12,8))\n",
    "sns.distplot(df['EMI (monthly)'])\n",
    "plt.show()"
   ]
  },
  {
   "cell_type": "markdown",
   "id": "b24348e6",
   "metadata": {},
   "source": [
    "#### Standerd Scaler Method:"
   ]
  },
  {
   "cell_type": "code",
   "execution_count": 109,
   "id": "207b5b30",
   "metadata": {},
   "outputs": [],
   "source": [
    "from sklearn.preprocessing import StandardScaler"
   ]
  },
  {
   "cell_type": "code",
   "execution_count": 110,
   "id": "fe909dad",
   "metadata": {},
   "outputs": [],
   "source": [
    "scaler = StandardScaler()\n",
    "scaled_X = scaler.fit_transform(df)"
   ]
  },
  {
   "cell_type": "code",
   "execution_count": 111,
   "id": "5ab7fbd3",
   "metadata": {},
   "outputs": [
    {
     "data": {
      "text/plain": [
       "array([[ 0.42987275, -1.29069206,  0.01097528, ...,  0.40185122,\n",
       "        -0.47568303,  0.01100539],\n",
       "       [-1.2132264 ,  0.16873452, -0.30848932, ..., -1.99548298,\n",
       "         2.10224021, -0.30841746],\n",
       "       [ 0.42987275,  0.94960852, -0.46380732, ...,  0.40185122,\n",
       "         2.10224021, -0.4637925 ],\n",
       "       ...,\n",
       "       [ 0.42987275, -1.12913192,  0.23724908, ...,  0.40185122,\n",
       "        -0.47568303,  0.23723263],\n",
       "       [ 1.36878655,  0.58340554,  1.50006616, ..., -1.99548298,\n",
       "        -0.47568303,  1.50007744],\n",
       "       [ 1.1340581 ,  0.28182662, -0.81335457, ...,  0.40185122,\n",
       "        -0.47568303, -0.81334959]])"
      ]
     },
     "execution_count": 111,
     "metadata": {},
     "output_type": "execute_result"
    }
   ],
   "source": [
    "scaled_X"
   ]
  },
  {
   "cell_type": "markdown",
   "id": "5b960586",
   "metadata": {},
   "source": [
    "# Principle Component Analysis"
   ]
  },
  {
   "cell_type": "code",
   "execution_count": 112,
   "id": "2a219c4c",
   "metadata": {},
   "outputs": [],
   "source": [
    "from sklearn.decomposition import PCA"
   ]
  },
  {
   "cell_type": "code",
   "execution_count": 113,
   "id": "ecb677ae",
   "metadata": {},
   "outputs": [],
   "source": [
    "pca = PCA()"
   ]
  },
  {
   "cell_type": "code",
   "execution_count": 114,
   "id": "0036d116",
   "metadata": {},
   "outputs": [],
   "source": [
    "data_pca = pca.fit(scaled_X)"
   ]
  },
  {
   "cell_type": "code",
   "execution_count": 115,
   "id": "93eef57c",
   "metadata": {},
   "outputs": [
    {
     "data": {
      "text/plain": [
       "array([2.56080899e-01, 1.71107189e-01, 1.12156798e-01, 1.01262173e-01,\n",
       "       9.87489437e-02, 9.04903260e-02, 7.95275726e-02, 5.05315853e-02,\n",
       "       4.00945138e-02, 9.04401110e-11])"
      ]
     },
     "execution_count": 115,
     "metadata": {},
     "output_type": "execute_result"
    }
   ],
   "source": [
    "data_pca.explained_variance_ratio_"
   ]
  },
  {
   "cell_type": "code",
   "execution_count": 116,
   "id": "b51a4f31",
   "metadata": {},
   "outputs": [
    {
     "data": {
      "text/plain": [
       "array([ 25.60808993,  42.71880879,  53.93448857,  64.06070584,\n",
       "        73.93560022,  82.98463282,  90.93739008,  95.99054861,\n",
       "        99.99999999, 100.        ])"
      ]
     },
     "execution_count": 116,
     "metadata": {},
     "output_type": "execute_result"
    }
   ],
   "source": [
    "var_component = np.cumsum(data_pca.explained_variance_ratio_)*100\n",
    "var_component"
   ]
  },
  {
   "cell_type": "code",
   "execution_count": 117,
   "id": "bef0b9b9",
   "metadata": {},
   "outputs": [
    {
     "name": "stdout",
     "output_type": "stream",
     "text": [
      "Number of components explaining 99% variance: 8\n"
     ]
    }
   ],
   "source": [
    "#finding cumulative variance\n",
    "k = np.argmax(var_component>99)\n",
    "print('Number of components explaining 99% variance:',k)"
   ]
  },
  {
   "cell_type": "code",
   "execution_count": 122,
   "id": "cea99a8b",
   "metadata": {},
   "outputs": [
    {
     "data": {
      "image/png": "[encoded data removed]",
      "text/plain": [
       "<Figure size 720x432 with 1 Axes>"
      ]
     },
     "metadata": {
      "needs_background": "light"
     },
     "output_type": "display_data"
    }
   ],
   "source": [
    "#ploting cumulative variance\n",
    "plt.figure(figsize=(10,6))\n",
    "plt.ylabel('Cumulative Explained varience')\n",
    "plt.xlabel('Principle components')\n",
    "plt.axvline(x=k, color='k',linestyle='--')\n",
    "plt.axhline(y=9, color='r',linestyle='--')\n",
    "plt.plot(var_component)\n",
    "plt.show()"
   ]
  },
  {
   "cell_type": "markdown",
   "id": "e37815af",
   "metadata": {},
   "source": [
    "# Model Building:"
   ]
  },
  {
   "cell_type": "code",
   "execution_count": 127,
   "id": "4e491d3b",
   "metadata": {},
   "outputs": [],
   "source": [
    "from sklearn.model_selection import train_test_split\n",
    "from sklearn.linear_model import LinearRegression\n",
    "from sklearn.neighbors import KNeighborsRegressor\n",
    "from sklearn.tree import DecisionTreeRegressor\n",
    "from sklearn.ensemble import RandomForestRegressor,AdaBoostRegressor, GradientBoostingRegressor\n",
    "from sklearn.metrics import accuracy_score,mean_absolute_error,mean_squared_error,r2_score\n",
    "from sklearn.model_selection import GridSearchCV,cross_val_score\n",
    "from sklearn.svm import SVR\n",
    "from sklearn import metrics\n",
    "from xgboost import XGBRegressor"
   ]
  },
  {
   "cell_type": "code",
   "execution_count": 129,
   "id": "a8e5d651",
   "metadata": {},
   "outputs": [],
   "source": [
    "#Spliting Data:\n",
    "X = df.drop(columns=['Price'])\n",
    "y = df['Price']"
   ]
  },
  {
   "cell_type": "code",
   "execution_count": 130,
   "id": "d49ccd28",
   "metadata": {},
   "outputs": [
    {
     "name": "stdout",
     "output_type": "stream",
     "text": [
      "Maximum r2 score is  0.9999999985465633  on Random_state  56\n"
     ]
    }
   ],
   "source": [
    "from sklearn.linear_model import LinearRegression\n",
    "maxAccu=0\n",
    "maxRS=0\n",
    "for i in range(1,200):\n",
    "    X_train,X_test,y_train,y_test = train_test_split(X,y,test_size=.30,random_state=i)\n",
    "    model = LinearRegression()\n",
    "    model.fit(X_train,y_train)\n",
    "    pred=model.predict(X_test)\n",
    "    acc=r2_score(y_test,pred)\n",
    "    if acc>maxAccu:\n",
    "        maxAccu=acc\n",
    "        maxRS=i\n",
    "print(\"Maximum r2 score is \",maxAccu,\" on Random_state \",maxRS)"
   ]
  },
  {
   "cell_type": "code",
   "execution_count": 132,
   "id": "92b35967",
   "metadata": {},
   "outputs": [],
   "source": [
    "X_train,X_test,y_train,y_test = train_test_split(scaled_X,y,test_size=0.30,random_state=56)"
   ]
  },
  {
   "cell_type": "markdown",
   "id": "ee15f0a9",
   "metadata": {},
   "source": [
    "# Linear Regression"
   ]
  },
  {
   "cell_type": "code",
   "execution_count": 133,
   "id": "8f8e22a9",
   "metadata": {},
   "outputs": [
    {
     "data": {
      "text/plain": [
       "LinearRegression()"
      ]
     },
     "execution_count": 133,
     "metadata": {},
     "output_type": "execute_result"
    }
   ],
   "source": [
    "lr = LinearRegression()\n",
    "lr.fit(X_train,y_train)"
   ]
  },
  {
   "cell_type": "code",
   "execution_count": 135,
   "id": "e4b1d113",
   "metadata": {},
   "outputs": [
    {
     "data": {
      "text/plain": [
       "1.0"
      ]
     },
     "execution_count": 135,
     "metadata": {},
     "output_type": "execute_result"
    }
   ],
   "source": [
    "lr.score(X_train,y_train)"
   ]
  },
  {
   "cell_type": "code",
   "execution_count": 136,
   "id": "3dca79c5",
   "metadata": {},
   "outputs": [],
   "source": [
    "pred_lr = lr.predict(X_test)"
   ]
  },
  {
   "cell_type": "code",
   "execution_count": 138,
   "id": "d8c3dfe5",
   "metadata": {},
   "outputs": [
    {
     "name": "stdout",
     "output_type": "stream",
     "text": [
      "R2_Score: 1.0\n",
      "MAE: 2.4620267386372026e-10\n",
      "MSE: 9.799637034810563e-20\n",
      "RMSE: 3.1304371954745493e-10\n"
     ]
    }
   ],
   "source": [
    "print('R2_Score:',r2_score(y_test,pred_lr))\n",
    "print('MAE:',metrics.mean_absolute_error(y_test, pred_lr))\n",
    "print('MSE:',metrics.mean_squared_error(y_test, pred_lr))\n",
    "print(\"RMSE:\",np.sqrt(metrics.mean_squared_error(y_test, pred_lr)))"
   ]
  },
  {
   "cell_type": "markdown",
   "id": "906e4941",
   "metadata": {},
   "source": [
    "# DecisionTreeRegressor"
   ]
  },
  {
   "cell_type": "code",
   "execution_count": 139,
   "id": "28760c35",
   "metadata": {},
   "outputs": [
    {
     "data": {
      "text/plain": [
       "DecisionTreeRegressor()"
      ]
     },
     "execution_count": 139,
     "metadata": {},
     "output_type": "execute_result"
    }
   ],
   "source": [
    "dtc = DecisionTreeRegressor()\n",
    "dtc.fit(X_train,y_train)"
   ]
  },
  {
   "cell_type": "code",
   "execution_count": 140,
   "id": "6b849d1d",
   "metadata": {},
   "outputs": [
    {
     "data": {
      "text/plain": [
       "1.0"
      ]
     },
     "execution_count": 140,
     "metadata": {},
     "output_type": "execute_result"
    }
   ],
   "source": [
    "dtc.score(X_train,y_train)"
   ]
  },
  {
   "cell_type": "code",
   "execution_count": 141,
   "id": "5849a967",
   "metadata": {},
   "outputs": [],
   "source": [
    "pred_dtc = dtc.predict(X_test)"
   ]
  },
  {
   "cell_type": "code",
   "execution_count": 142,
   "id": "37eab9ac",
   "metadata": {},
   "outputs": [
    {
     "name": "stdout",
     "output_type": "stream",
     "text": [
      "R2_Score: 0.9796620584019553\n",
      "MAE: 3747.070945945946\n",
      "MSE: 2186999233.3344593\n",
      "RMSE: 46765.36360742274\n"
     ]
    }
   ],
   "source": [
    "print('R2_Score:',r2_score(y_test,pred_dtc))\n",
    "print('MAE:',metrics.mean_absolute_error(y_test, pred_dtc))\n",
    "print('MSE:',metrics.mean_squared_error(y_test, pred_dtc))\n",
    "print(\"RMSE:\",np.sqrt(metrics.mean_squared_error(y_test, pred_dtc)))"
   ]
  },
  {
   "cell_type": "markdown",
   "id": "4a0472f0",
   "metadata": {},
   "source": [
    "# RandomForestRegressor"
   ]
  },
  {
   "cell_type": "code",
   "execution_count": 147,
   "id": "d18bc431",
   "metadata": {},
   "outputs": [
    {
     "data": {
      "text/plain": [
       "RandomForestRegressor()"
      ]
     },
     "execution_count": 147,
     "metadata": {},
     "output_type": "execute_result"
    }
   ],
   "source": [
    "rf = RandomForestRegressor()\n",
    "rf.fit(X_train,y_train)"
   ]
  },
  {
   "cell_type": "code",
   "execution_count": 148,
   "id": "ce90c5d1",
   "metadata": {},
   "outputs": [
    {
     "data": {
      "text/plain": [
       "0.9999520041112573"
      ]
     },
     "execution_count": 148,
     "metadata": {},
     "output_type": "execute_result"
    }
   ],
   "source": [
    "rf.score(X_train,y_train)"
   ]
  },
  {
   "cell_type": "code",
   "execution_count": 149,
   "id": "1d3531f9",
   "metadata": {},
   "outputs": [],
   "source": [
    "pred_rf = rf.predict(X_test)"
   ]
  },
  {
   "cell_type": "code",
   "execution_count": 150,
   "id": "f829f124",
   "metadata": {},
   "outputs": [
    {
     "name": "stdout",
     "output_type": "stream",
     "text": [
      "R2_Score: 0.983837852498077\n",
      "MAE: 2474.8975225225226\n",
      "MSE: 1737963698.3096848\n",
      "RMSE: 41688.89178557862\n"
     ]
    }
   ],
   "source": [
    "print('R2_Score:',r2_score(y_test,pred_rf))\n",
    "print('MAE:',metrics.mean_absolute_error(y_test, pred_rf))\n",
    "print('MSE:',metrics.mean_squared_error(y_test, pred_rf))\n",
    "print(\"RMSE:\",np.sqrt(metrics.mean_squared_error(y_test, pred_rf)))"
   ]
  },
  {
   "cell_type": "markdown",
   "id": "eb243620",
   "metadata": {},
   "source": [
    "# AdaBoostRegressor"
   ]
  },
  {
   "cell_type": "code",
   "execution_count": 153,
   "id": "1a59aef9",
   "metadata": {},
   "outputs": [
    {
     "data": {
      "text/plain": [
       "AdaBoostRegressor()"
      ]
     },
     "execution_count": 153,
     "metadata": {},
     "output_type": "execute_result"
    }
   ],
   "source": [
    "ad = AdaBoostRegressor()\n",
    "ad.fit(X_train,y_train)"
   ]
  },
  {
   "cell_type": "code",
   "execution_count": 154,
   "id": "30acca00",
   "metadata": {},
   "outputs": [
    {
     "data": {
      "text/plain": [
       "0.9922419869020412"
      ]
     },
     "execution_count": 154,
     "metadata": {},
     "output_type": "execute_result"
    }
   ],
   "source": [
    "ad.score(X_train,y_train)"
   ]
  },
  {
   "cell_type": "code",
   "execution_count": 155,
   "id": "bf4465d1",
   "metadata": {},
   "outputs": [],
   "source": [
    "pred_ad = ad.predict(X_test)"
   ]
  },
  {
   "cell_type": "code",
   "execution_count": 156,
   "id": "2f22eaff",
   "metadata": {},
   "outputs": [
    {
     "name": "stdout",
     "output_type": "stream",
     "text": [
      "R2_Score: 0.9782623687960478\n",
      "MAE: 22028.563066416675\n",
      "MSE: 2337512011.644347\n",
      "RMSE: 48347.82323584328\n"
     ]
    }
   ],
   "source": [
    "print('R2_Score:',r2_score(y_test,pred_ad))\n",
    "print('MAE:',metrics.mean_absolute_error(y_test, pred_ad))\n",
    "print('MSE:',metrics.mean_squared_error(y_test, pred_ad))\n",
    "print(\"RMSE:\",np.sqrt(metrics.mean_squared_error(y_test, pred_ad)))"
   ]
  },
  {
   "cell_type": "markdown",
   "id": "01d831f3",
   "metadata": {},
   "source": [
    "# GradientBoostingRegressor"
   ]
  },
  {
   "cell_type": "code",
   "execution_count": 157,
   "id": "db36d2b0",
   "metadata": {},
   "outputs": [
    {
     "data": {
      "text/plain": [
       "GradientBoostingRegressor()"
      ]
     },
     "execution_count": 157,
     "metadata": {},
     "output_type": "execute_result"
    }
   ],
   "source": [
    "grd =  GradientBoostingRegressor()\n",
    "grd.fit(X_train,y_train)"
   ]
  },
  {
   "cell_type": "code",
   "execution_count": 158,
   "id": "b9185ae8",
   "metadata": {},
   "outputs": [
    {
     "data": {
      "text/plain": [
       "0.9999353988391735"
      ]
     },
     "execution_count": 158,
     "metadata": {},
     "output_type": "execute_result"
    }
   ],
   "source": [
    "grd.score(X_train,y_train)"
   ]
  },
  {
   "cell_type": "code",
   "execution_count": 159,
   "id": "057fc4d3",
   "metadata": {},
   "outputs": [],
   "source": [
    "pred_grd = grd.predict(X_test)"
   ]
  },
  {
   "cell_type": "code",
   "execution_count": 160,
   "id": "5d4a76b6",
   "metadata": {},
   "outputs": [
    {
     "name": "stdout",
     "output_type": "stream",
     "text": [
      "R2_Score: 0.9874600957386385\n",
      "MAE: 3675.768411098132\n",
      "MSE: 1348453130.0021966\n",
      "RMSE: 36721.28987388919\n"
     ]
    }
   ],
   "source": [
    "print('R2_Score:',r2_score(y_test,pred_grd))\n",
    "print('MAE:',metrics.mean_absolute_error(y_test, pred_grd))\n",
    "print('MSE:',metrics.mean_squared_error(y_test, pred_grd))\n",
    "print(\"RMSE:\",np.sqrt(metrics.mean_squared_error(y_test, pred_grd)))"
   ]
  },
  {
   "cell_type": "markdown",
   "id": "4097c523",
   "metadata": {},
   "source": [
    "# XGBRegressor"
   ]
  },
  {
   "cell_type": "code",
   "execution_count": 161,
   "id": "25bea0f6",
   "metadata": {},
   "outputs": [
    {
     "data": {
      "text/plain": [
       "XGBRegressor(base_score=0.5, booster='gbtree', colsample_bylevel=1,\n",
       "             colsample_bynode=1, colsample_bytree=1, enable_categorical=False,\n",
       "             gamma=0, gpu_id=-1, importance_type=None,\n",
       "             interaction_constraints='', learning_rate=0.300000012,\n",
       "             max_delta_step=0, max_depth=6, min_child_weight=1, missing=nan,\n",
       "             monotone_constraints='()', n_estimators=100, n_jobs=8,\n",
       "             num_parallel_tree=1, predictor='auto', random_state=0, reg_alpha=0,\n",
       "             reg_lambda=1, scale_pos_weight=1, subsample=1, tree_method='exact',\n",
       "             validate_parameters=1, verbosity=None)"
      ]
     },
     "execution_count": 161,
     "metadata": {},
     "output_type": "execute_result"
    }
   ],
   "source": [
    "xg =  XGBRegressor()\n",
    "xg.fit(X_train,y_train)"
   ]
  },
  {
   "cell_type": "code",
   "execution_count": 162,
   "id": "7318c484",
   "metadata": {},
   "outputs": [
    {
     "data": {
      "text/plain": [
       "0.9999929366369495"
      ]
     },
     "execution_count": 162,
     "metadata": {},
     "output_type": "execute_result"
    }
   ],
   "source": [
    "xg.score(X_train,y_train)"
   ]
  },
  {
   "cell_type": "code",
   "execution_count": 163,
   "id": "c1811620",
   "metadata": {},
   "outputs": [],
   "source": [
    "pred_xg = xg.predict(X_test)"
   ]
  },
  {
   "cell_type": "code",
   "execution_count": 164,
   "id": "28c1bd60",
   "metadata": {},
   "outputs": [
    {
     "name": "stdout",
     "output_type": "stream",
     "text": [
      "R2_Score: 0.9862582734370778\n",
      "MAE: 4017.365938203829\n",
      "MSE: 1477688649.7054315\n",
      "RMSE: 38440.716040488\n"
     ]
    }
   ],
   "source": [
    "print('R2_Score:',r2_score(y_test,pred_xg))\n",
    "print('MAE:',metrics.mean_absolute_error(y_test, pred_xg))\n",
    "print('MSE:',metrics.mean_squared_error(y_test, pred_xg))\n",
    "print(\"RMSE:\",np.sqrt(metrics.mean_squared_error(y_test, pred_xg)))"
   ]
  },
  {
   "cell_type": "markdown",
   "id": "173f4218",
   "metadata": {},
   "source": [
    "# SVR"
   ]
  },
  {
   "cell_type": "code",
   "execution_count": 166,
   "id": "dd452f03",
   "metadata": {},
   "outputs": [
    {
     "data": {
      "text/plain": [
       "SVR()"
      ]
     },
     "execution_count": 166,
     "metadata": {},
     "output_type": "execute_result"
    }
   ],
   "source": [
    "sv = SVR()\n",
    "sv.fit(X_train,y_train)"
   ]
  },
  {
   "cell_type": "code",
   "execution_count": 167,
   "id": "1c1f192e",
   "metadata": {},
   "outputs": [],
   "source": [
    "pred_sv = sv.predict(X_test)"
   ]
  },
  {
   "cell_type": "code",
   "execution_count": 168,
   "id": "3baf7fa6",
   "metadata": {},
   "outputs": [
    {
     "name": "stdout",
     "output_type": "stream",
     "text": [
      "R2_Score: -0.08595045212027808\n",
      "MAE: 210364.2432202676\n",
      "MSE: 116775475766.66196\n",
      "RMSE: 341724.26862407936\n"
     ]
    }
   ],
   "source": [
    "print('R2_Score:',r2_score(y_test,pred_sv))\n",
    "print('MAE:',metrics.mean_absolute_error(y_test, pred_sv))\n",
    "print('MSE:',metrics.mean_squared_error(y_test, pred_sv))\n",
    "print(\"RMSE:\",np.sqrt(metrics.mean_squared_error(y_test, pred_sv)))"
   ]
  },
  {
   "cell_type": "markdown",
   "id": "3392d546",
   "metadata": {},
   "source": [
    "# Cross Validation Score"
   ]
  },
  {
   "cell_type": "code",
   "execution_count": 171,
   "id": "a3e85491",
   "metadata": {},
   "outputs": [
    {
     "name": "stdout",
     "output_type": "stream",
     "text": [
      "0.9999999976897763\n"
     ]
    }
   ],
   "source": [
    " #Checking cv score for Linear Regression\n",
    "print(cross_val_score(lr,X,y,cv=5).mean())"
   ]
  },
  {
   "cell_type": "code",
   "execution_count": 173,
   "id": "84c88eeb",
   "metadata": {},
   "outputs": [
    {
     "name": "stdout",
     "output_type": "stream",
     "text": [
      "0.997486342897349\n"
     ]
    }
   ],
   "source": [
    "#checking cv score for Decisiontreeregresssor\n",
    "print(cross_val_score(dtc,X,y,cv=5).mean())"
   ]
  },
  {
   "cell_type": "code",
   "execution_count": 174,
   "id": "6ddddc5d",
   "metadata": {},
   "outputs": [
    {
     "name": "stdout",
     "output_type": "stream",
     "text": [
      "0.9967074239138546\n"
     ]
    }
   ],
   "source": [
    "# Checking cv score for randomforestRegression\n",
    "print(cross_val_score(rf,X,y,cv=5).mean())"
   ]
  },
  {
   "cell_type": "code",
   "execution_count": 175,
   "id": "5025cd2c",
   "metadata": {},
   "outputs": [
    {
     "name": "stdout",
     "output_type": "stream",
     "text": [
      "0.9839385725272374\n"
     ]
    }
   ],
   "source": [
    "# Checking cv score for AdaBoostRegressor\n",
    "print(cross_val_score(ad,X,y,cv=5).mean())"
   ]
  },
  {
   "cell_type": "code",
   "execution_count": 176,
   "id": "b9919a84",
   "metadata": {},
   "outputs": [
    {
     "name": "stdout",
     "output_type": "stream",
     "text": [
      "0.9977437875586054\n"
     ]
    }
   ],
   "source": [
    "# Checking cv score for GradientBoostingRegressor\n",
    "print(cross_val_score(grd,X,y,cv=5).mean())"
   ]
  },
  {
   "cell_type": "code",
   "execution_count": 177,
   "id": "bb7d4c82",
   "metadata": {},
   "outputs": [
    {
     "name": "stdout",
     "output_type": "stream",
     "text": [
      "-0.09799840899638257\n"
     ]
    }
   ],
   "source": [
    "#Checking cv score for svr\n",
    "print(cross_val_score(sv,X,y,cv=5).mean())"
   ]
  },
  {
   "cell_type": "markdown",
   "id": "6be6f009",
   "metadata": {},
   "source": [
    "# All the models performances are near to each others. Since, in most of the scenarios RandomForestRegressor is best, We will tune parameters for it and check its performance"
   ]
  },
  {
   "cell_type": "markdown",
   "id": "fbf7715b",
   "metadata": {},
   "source": [
    "# HyperParameter Tuning"
   ]
  },
  {
   "cell_type": "code",
   "execution_count": 184,
   "id": "f5249231",
   "metadata": {},
   "outputs": [],
   "source": [
    "params  = {'n_estimators' : [300, 500, 700, 1000, 2100],\n",
    "            'max_depth' : [3, 5, 7, 9, 11, 13, 15],\n",
    "            'max_features' : [\"auto\", \"sqrt\", \"log2\"],\n",
    "            'min_samples_split' : [2, 4, 6, 8]}"
   ]
  },
  {
   "cell_type": "code",
   "execution_count": 185,
   "id": "9ce22105",
   "metadata": {},
   "outputs": [],
   "source": [
    "GCV = GridSearchCV(RandomForestRegressor(),param_grid = params, scoring ='r2', cv=5)"
   ]
  },
  {
   "cell_type": "code",
   "execution_count": 186,
   "id": "ad822c0b",
   "metadata": {},
   "outputs": [
    {
     "data": {
      "text/plain": [
       "GridSearchCV(cv=5, estimator=RandomForestRegressor(),\n",
       "             param_grid={'max_depth': [3, 5, 7, 9, 11, 13, 15],\n",
       "                         'max_features': ['auto', 'sqrt', 'log2'],\n",
       "                         'min_samples_split': [2, 4, 6, 8],\n",
       "                         'n_estimators': [300, 500, 700, 1000, 2100]},\n",
       "             scoring='r2')"
      ]
     },
     "execution_count": 186,
     "metadata": {},
     "output_type": "execute_result"
    }
   ],
   "source": [
    "GCV.fit(X,y)"
   ]
  },
  {
   "cell_type": "code",
   "execution_count": 187,
   "id": "4bdf2ddd",
   "metadata": {},
   "outputs": [
    {
     "data": {
      "text/plain": [
       "{'max_depth': 13,\n",
       " 'max_features': 'auto',\n",
       " 'min_samples_split': 2,\n",
       " 'n_estimators': 700}"
      ]
     },
     "execution_count": 187,
     "metadata": {},
     "output_type": "execute_result"
    }
   ],
   "source": [
    "GCV.best_params_"
   ]
  },
  {
   "cell_type": "code",
   "execution_count": 188,
   "id": "3fd293cb",
   "metadata": {},
   "outputs": [
    {
     "data": {
      "text/plain": [
       "RandomForestRegressor(max_depth=15, n_estimators=1000)"
      ]
     },
     "execution_count": 188,
     "metadata": {},
     "output_type": "execute_result"
    }
   ],
   "source": [
    "final_model = RandomForestRegressor(n_estimators = 1000, max_depth = 15, max_features = 'auto', min_samples_split = 2)\n",
    "\n",
    "final_model.fit(X,y)"
   ]
  },
  {
   "cell_type": "code",
   "execution_count": 189,
   "id": "3e5dcd66",
   "metadata": {},
   "outputs": [
    {
     "data": {
      "text/plain": [
       "0.999337420910088"
      ]
     },
     "execution_count": 189,
     "metadata": {},
     "output_type": "execute_result"
    }
   ],
   "source": [
    "final_model.score(X,y)"
   ]
  },
  {
   "cell_type": "markdown",
   "id": "141862c0",
   "metadata": {},
   "source": [
    "# Saving"
   ]
  },
  {
   "cell_type": "code",
   "execution_count": 190,
   "id": "35fb8b82",
   "metadata": {},
   "outputs": [
    {
     "data": {
      "text/plain": [
       "['USEDCARPRICEPREDICTION.pkl']"
      ]
     },
     "execution_count": 190,
     "metadata": {},
     "output_type": "execute_result"
    }
   ],
   "source": [
    "import joblib\n",
    "joblib.dump(final_model,'USEDCARPRICEPREDICTION.pkl')"
   ]
  },
  {
   "cell_type": "markdown",
   "id": "53dbeb4b",
   "metadata": {},
   "source": [
    "# !!!! THANK YOU !!!!"
   ]
  },
  {
   "cell_type": "code",
   "execution_count": null,
   "id": "b4e9363f",
   "metadata": {},
   "outputs": [],
   "source": []
  }
 ],
 "metadata": {
  "kernelspec": {
   "display_name": "Python 3",
   "language": "python",
   "name": "python3"
  },
  "language_info": {
   "codemirror_mode": {
    "name": "ipython",
    "version": 3
   },
   "file_extension": ".py",
   "mimetype": "text/x-python",
   "name": "python",
   "nbconvert_exporter": "python",
   "pygments_lexer": "ipython3",
   "version": "3.8.8"
  }
 },
 "nbformat": 4,
 "nbformat_minor": 5
}
